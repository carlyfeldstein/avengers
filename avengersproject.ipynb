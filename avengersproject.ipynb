{
 "cells": [
  {
   "cell_type": "markdown",
   "metadata": {},
   "source": [
    "# Avengers \n",
    "## Exploratory Data Analysis\n",
    "### by: Carly Feldstein"
   ]
  },
  {
   "cell_type": "markdown",
   "metadata": {},
   "source": [
    "## NOTES : all data was taken before Avengers: Age of Ultron\n",
    "\n",
    "\n",
    "\n"
   ]
  },
  {
   "cell_type": "markdown",
   "metadata": {},
   "source": [
    "#### Step 1: Import the required libarries for EDA"
   ]
  },
  {
   "cell_type": "code",
   "execution_count": 474,
   "metadata": {},
   "outputs": [],
   "source": [
    "#importing required libraries\n",
    "\n",
    "import pandas as pd\n",
    "import matplotlib.pyplot as plt\n",
    "import seaborn as sns\n",
    "import numpy as np\n",
    "%matplotlib inline\n",
    "sns.set(color_codes=True)\n",
    "\n"
   ]
  },
  {
   "cell_type": "markdown",
   "metadata": {},
   "source": [
    "#### Step 2:  Load avengers data into data frame"
   ]
  },
  {
   "cell_type": "code",
   "execution_count": 475,
   "metadata": {},
   "outputs": [
    {
     "data": {
      "text/html": [
       "<div>\n",
       "<style scoped>\n",
       "    .dataframe tbody tr th:only-of-type {\n",
       "        vertical-align: middle;\n",
       "    }\n",
       "\n",
       "    .dataframe tbody tr th {\n",
       "        vertical-align: top;\n",
       "    }\n",
       "\n",
       "    .dataframe thead th {\n",
       "        text-align: right;\n",
       "    }\n",
       "</style>\n",
       "<table border=\"1\" class=\"dataframe\">\n",
       "  <thead>\n",
       "    <tr style=\"text-align: right;\">\n",
       "      <th></th>\n",
       "      <th>url</th>\n",
       "      <th>name/alias</th>\n",
       "      <th>appearances</th>\n",
       "      <th>current?</th>\n",
       "      <th>gender</th>\n",
       "      <th>probationary introl</th>\n",
       "      <th>full/reserve avengers intro</th>\n",
       "      <th>year</th>\n",
       "      <th>years since joining</th>\n",
       "      <th>honorary</th>\n",
       "      <th>...</th>\n",
       "      <th>return1</th>\n",
       "      <th>death2</th>\n",
       "      <th>return2</th>\n",
       "      <th>death3</th>\n",
       "      <th>return3</th>\n",
       "      <th>death4</th>\n",
       "      <th>return4</th>\n",
       "      <th>death5</th>\n",
       "      <th>return5</th>\n",
       "      <th>notes</th>\n",
       "    </tr>\n",
       "  </thead>\n",
       "  <tbody>\n",
       "    <tr>\n",
       "      <td>0</td>\n",
       "      <td>http://marvel.wikia.com/henry_pym_(earth-616)</td>\n",
       "      <td>henry jonathan \"hank\" pym</td>\n",
       "      <td>1269</td>\n",
       "      <td>yes</td>\n",
       "      <td>male</td>\n",
       "      <td>NaN</td>\n",
       "      <td>sep-63</td>\n",
       "      <td>1963</td>\n",
       "      <td>52</td>\n",
       "      <td>full</td>\n",
       "      <td>...</td>\n",
       "      <td>no</td>\n",
       "      <td>NaN</td>\n",
       "      <td>NaN</td>\n",
       "      <td>NaN</td>\n",
       "      <td>NaN</td>\n",
       "      <td>NaN</td>\n",
       "      <td>NaN</td>\n",
       "      <td>NaN</td>\n",
       "      <td>NaN</td>\n",
       "      <td>merged with ultron in rage of ultron vol. 1. a...</td>\n",
       "    </tr>\n",
       "    <tr>\n",
       "      <td>1</td>\n",
       "      <td>http://marvel.wikia.com/janet_van_dyne_(earth-...</td>\n",
       "      <td>janet van dyne</td>\n",
       "      <td>1165</td>\n",
       "      <td>yes</td>\n",
       "      <td>female</td>\n",
       "      <td>NaN</td>\n",
       "      <td>sep-63</td>\n",
       "      <td>1963</td>\n",
       "      <td>52</td>\n",
       "      <td>full</td>\n",
       "      <td>...</td>\n",
       "      <td>yes</td>\n",
       "      <td>NaN</td>\n",
       "      <td>NaN</td>\n",
       "      <td>NaN</td>\n",
       "      <td>NaN</td>\n",
       "      <td>NaN</td>\n",
       "      <td>NaN</td>\n",
       "      <td>NaN</td>\n",
       "      <td>NaN</td>\n",
       "      <td>dies in secret invasion v1:i8. actually was se...</td>\n",
       "    </tr>\n",
       "    <tr>\n",
       "      <td>2</td>\n",
       "      <td>http://marvel.wikia.com/anthony_stark_(earth-616)</td>\n",
       "      <td>anthony edward \"tony\" stark</td>\n",
       "      <td>3068</td>\n",
       "      <td>yes</td>\n",
       "      <td>male</td>\n",
       "      <td>NaN</td>\n",
       "      <td>sep-63</td>\n",
       "      <td>1963</td>\n",
       "      <td>52</td>\n",
       "      <td>full</td>\n",
       "      <td>...</td>\n",
       "      <td>yes</td>\n",
       "      <td>NaN</td>\n",
       "      <td>NaN</td>\n",
       "      <td>NaN</td>\n",
       "      <td>NaN</td>\n",
       "      <td>NaN</td>\n",
       "      <td>NaN</td>\n",
       "      <td>NaN</td>\n",
       "      <td>NaN</td>\n",
       "      <td>death: \"later while under the influence of imm...</td>\n",
       "    </tr>\n",
       "    <tr>\n",
       "      <td>3</td>\n",
       "      <td>http://marvel.wikia.com/robert_bruce_banner_(e...</td>\n",
       "      <td>robert bruce banner</td>\n",
       "      <td>2089</td>\n",
       "      <td>yes</td>\n",
       "      <td>male</td>\n",
       "      <td>NaN</td>\n",
       "      <td>sep-63</td>\n",
       "      <td>1963</td>\n",
       "      <td>52</td>\n",
       "      <td>full</td>\n",
       "      <td>...</td>\n",
       "      <td>yes</td>\n",
       "      <td>NaN</td>\n",
       "      <td>NaN</td>\n",
       "      <td>NaN</td>\n",
       "      <td>NaN</td>\n",
       "      <td>NaN</td>\n",
       "      <td>NaN</td>\n",
       "      <td>NaN</td>\n",
       "      <td>NaN</td>\n",
       "      <td>dies in ghosts of the future arc. however \"he ...</td>\n",
       "    </tr>\n",
       "    <tr>\n",
       "      <td>4</td>\n",
       "      <td>http://marvel.wikia.com/thor_odinson_(earth-616)</td>\n",
       "      <td>thor odinson</td>\n",
       "      <td>2402</td>\n",
       "      <td>yes</td>\n",
       "      <td>male</td>\n",
       "      <td>NaN</td>\n",
       "      <td>sep-63</td>\n",
       "      <td>1963</td>\n",
       "      <td>52</td>\n",
       "      <td>full</td>\n",
       "      <td>...</td>\n",
       "      <td>yes</td>\n",
       "      <td>yes</td>\n",
       "      <td>no</td>\n",
       "      <td>NaN</td>\n",
       "      <td>NaN</td>\n",
       "      <td>NaN</td>\n",
       "      <td>NaN</td>\n",
       "      <td>NaN</td>\n",
       "      <td>NaN</td>\n",
       "      <td>dies in fear itself brought back because that'...</td>\n",
       "    </tr>\n",
       "    <tr>\n",
       "      <td>...</td>\n",
       "      <td>...</td>\n",
       "      <td>...</td>\n",
       "      <td>...</td>\n",
       "      <td>...</td>\n",
       "      <td>...</td>\n",
       "      <td>...</td>\n",
       "      <td>...</td>\n",
       "      <td>...</td>\n",
       "      <td>...</td>\n",
       "      <td>...</td>\n",
       "      <td>...</td>\n",
       "      <td>...</td>\n",
       "      <td>...</td>\n",
       "      <td>...</td>\n",
       "      <td>...</td>\n",
       "      <td>...</td>\n",
       "      <td>...</td>\n",
       "      <td>...</td>\n",
       "      <td>...</td>\n",
       "      <td>...</td>\n",
       "      <td>...</td>\n",
       "    </tr>\n",
       "    <tr>\n",
       "      <td>168</td>\n",
       "      <td>http://marvel.wikia.com/eric_brooks_(earth-616)#</td>\n",
       "      <td>eric brooks</td>\n",
       "      <td>198</td>\n",
       "      <td>yes</td>\n",
       "      <td>male</td>\n",
       "      <td>NaN</td>\n",
       "      <td>13-nov</td>\n",
       "      <td>2013</td>\n",
       "      <td>2</td>\n",
       "      <td>full</td>\n",
       "      <td>...</td>\n",
       "      <td>NaN</td>\n",
       "      <td>NaN</td>\n",
       "      <td>NaN</td>\n",
       "      <td>NaN</td>\n",
       "      <td>NaN</td>\n",
       "      <td>NaN</td>\n",
       "      <td>NaN</td>\n",
       "      <td>NaN</td>\n",
       "      <td>NaN</td>\n",
       "      <td>na</td>\n",
       "    </tr>\n",
       "    <tr>\n",
       "      <td>169</td>\n",
       "      <td>http://marvel.wikia.com/adam_brashear_(earth-6...</td>\n",
       "      <td>adam brashear</td>\n",
       "      <td>29</td>\n",
       "      <td>yes</td>\n",
       "      <td>male</td>\n",
       "      <td>NaN</td>\n",
       "      <td>14-jan</td>\n",
       "      <td>2014</td>\n",
       "      <td>1</td>\n",
       "      <td>full</td>\n",
       "      <td>...</td>\n",
       "      <td>NaN</td>\n",
       "      <td>NaN</td>\n",
       "      <td>NaN</td>\n",
       "      <td>NaN</td>\n",
       "      <td>NaN</td>\n",
       "      <td>NaN</td>\n",
       "      <td>NaN</td>\n",
       "      <td>NaN</td>\n",
       "      <td>NaN</td>\n",
       "      <td>na</td>\n",
       "    </tr>\n",
       "    <tr>\n",
       "      <td>170</td>\n",
       "      <td>http://marvel.wikia.com/victor_alvarez_(earth-...</td>\n",
       "      <td>victor alvarez</td>\n",
       "      <td>45</td>\n",
       "      <td>yes</td>\n",
       "      <td>male</td>\n",
       "      <td>NaN</td>\n",
       "      <td>14-jan</td>\n",
       "      <td>2014</td>\n",
       "      <td>1</td>\n",
       "      <td>full</td>\n",
       "      <td>...</td>\n",
       "      <td>NaN</td>\n",
       "      <td>NaN</td>\n",
       "      <td>NaN</td>\n",
       "      <td>NaN</td>\n",
       "      <td>NaN</td>\n",
       "      <td>NaN</td>\n",
       "      <td>NaN</td>\n",
       "      <td>NaN</td>\n",
       "      <td>NaN</td>\n",
       "      <td>na</td>\n",
       "    </tr>\n",
       "    <tr>\n",
       "      <td>171</td>\n",
       "      <td>http://marvel.wikia.com/ava_ayala_(earth-616)#</td>\n",
       "      <td>ava ayala</td>\n",
       "      <td>49</td>\n",
       "      <td>yes</td>\n",
       "      <td>female</td>\n",
       "      <td>NaN</td>\n",
       "      <td>14-jan</td>\n",
       "      <td>2014</td>\n",
       "      <td>1</td>\n",
       "      <td>full</td>\n",
       "      <td>...</td>\n",
       "      <td>NaN</td>\n",
       "      <td>NaN</td>\n",
       "      <td>NaN</td>\n",
       "      <td>NaN</td>\n",
       "      <td>NaN</td>\n",
       "      <td>NaN</td>\n",
       "      <td>NaN</td>\n",
       "      <td>NaN</td>\n",
       "      <td>NaN</td>\n",
       "      <td>na</td>\n",
       "    </tr>\n",
       "    <tr>\n",
       "      <td>172</td>\n",
       "      <td>http://marvel.wikia.com/kaluu_(earth-616)#</td>\n",
       "      <td>kaluu</td>\n",
       "      <td>35</td>\n",
       "      <td>yes</td>\n",
       "      <td>male</td>\n",
       "      <td>NaN</td>\n",
       "      <td>15-jan</td>\n",
       "      <td>2015</td>\n",
       "      <td>0</td>\n",
       "      <td>full</td>\n",
       "      <td>...</td>\n",
       "      <td>NaN</td>\n",
       "      <td>NaN</td>\n",
       "      <td>NaN</td>\n",
       "      <td>NaN</td>\n",
       "      <td>NaN</td>\n",
       "      <td>NaN</td>\n",
       "      <td>NaN</td>\n",
       "      <td>NaN</td>\n",
       "      <td>NaN</td>\n",
       "      <td>na</td>\n",
       "    </tr>\n",
       "  </tbody>\n",
       "</table>\n",
       "<p>173 rows × 21 columns</p>\n",
       "</div>"
      ],
      "text/plain": [
       "                                                   url  \\\n",
       "0        http://marvel.wikia.com/henry_pym_(earth-616)   \n",
       "1    http://marvel.wikia.com/janet_van_dyne_(earth-...   \n",
       "2    http://marvel.wikia.com/anthony_stark_(earth-616)   \n",
       "3    http://marvel.wikia.com/robert_bruce_banner_(e...   \n",
       "4     http://marvel.wikia.com/thor_odinson_(earth-616)   \n",
       "..                                                 ...   \n",
       "168   http://marvel.wikia.com/eric_brooks_(earth-616)#   \n",
       "169  http://marvel.wikia.com/adam_brashear_(earth-6...   \n",
       "170  http://marvel.wikia.com/victor_alvarez_(earth-...   \n",
       "171     http://marvel.wikia.com/ava_ayala_(earth-616)#   \n",
       "172         http://marvel.wikia.com/kaluu_(earth-616)#   \n",
       "\n",
       "                      name/alias  appearances current?  gender  \\\n",
       "0      henry jonathan \"hank\" pym         1269      yes    male   \n",
       "1                 janet van dyne         1165      yes  female   \n",
       "2    anthony edward \"tony\" stark         3068      yes    male   \n",
       "3            robert bruce banner         2089      yes    male   \n",
       "4                   thor odinson         2402      yes    male   \n",
       "..                           ...          ...      ...     ...   \n",
       "168                  eric brooks          198      yes    male   \n",
       "169                adam brashear           29      yes    male   \n",
       "170               victor alvarez           45      yes    male   \n",
       "171                    ava ayala           49      yes  female   \n",
       "172                        kaluu           35      yes    male   \n",
       "\n",
       "    probationary introl full/reserve avengers intro  year  \\\n",
       "0                   NaN                      sep-63  1963   \n",
       "1                   NaN                      sep-63  1963   \n",
       "2                   NaN                      sep-63  1963   \n",
       "3                   NaN                      sep-63  1963   \n",
       "4                   NaN                      sep-63  1963   \n",
       "..                  ...                         ...   ...   \n",
       "168                 NaN                      13-nov  2013   \n",
       "169                 NaN                      14-jan  2014   \n",
       "170                 NaN                      14-jan  2014   \n",
       "171                 NaN                      14-jan  2014   \n",
       "172                 NaN                      15-jan  2015   \n",
       "\n",
       "     years since joining honorary  ... return1 death2 return2 death3 return3  \\\n",
       "0                     52     full  ...      no    NaN     NaN    NaN     NaN   \n",
       "1                     52     full  ...     yes    NaN     NaN    NaN     NaN   \n",
       "2                     52     full  ...     yes    NaN     NaN    NaN     NaN   \n",
       "3                     52     full  ...     yes    NaN     NaN    NaN     NaN   \n",
       "4                     52     full  ...     yes    yes      no    NaN     NaN   \n",
       "..                   ...      ...  ...     ...    ...     ...    ...     ...   \n",
       "168                    2     full  ...     NaN    NaN     NaN    NaN     NaN   \n",
       "169                    1     full  ...     NaN    NaN     NaN    NaN     NaN   \n",
       "170                    1     full  ...     NaN    NaN     NaN    NaN     NaN   \n",
       "171                    1     full  ...     NaN    NaN     NaN    NaN     NaN   \n",
       "172                    0     full  ...     NaN    NaN     NaN    NaN     NaN   \n",
       "\n",
       "    death4 return4 death5 return5  \\\n",
       "0      NaN     NaN    NaN     NaN   \n",
       "1      NaN     NaN    NaN     NaN   \n",
       "2      NaN     NaN    NaN     NaN   \n",
       "3      NaN     NaN    NaN     NaN   \n",
       "4      NaN     NaN    NaN     NaN   \n",
       "..     ...     ...    ...     ...   \n",
       "168    NaN     NaN    NaN     NaN   \n",
       "169    NaN     NaN    NaN     NaN   \n",
       "170    NaN     NaN    NaN     NaN   \n",
       "171    NaN     NaN    NaN     NaN   \n",
       "172    NaN     NaN    NaN     NaN   \n",
       "\n",
       "                                                 notes  \n",
       "0    merged with ultron in rage of ultron vol. 1. a...  \n",
       "1    dies in secret invasion v1:i8. actually was se...  \n",
       "2    death: \"later while under the influence of imm...  \n",
       "3    dies in ghosts of the future arc. however \"he ...  \n",
       "4    dies in fear itself brought back because that'...  \n",
       "..                                                 ...  \n",
       "168                                                 na  \n",
       "169                                                 na  \n",
       "170                                                 na  \n",
       "171                                                 na  \n",
       "172                                                 na  \n",
       "\n",
       "[173 rows x 21 columns]"
      ]
     },
     "execution_count": 475,
     "metadata": {},
     "output_type": "execute_result"
    }
   ],
   "source": [
    "avengers= pd.read_csv(\"avengers_csv.csv\")\n",
    "avengers\n"
   ]
  },
  {
   "cell_type": "code",
   "execution_count": 476,
   "metadata": {},
   "outputs": [
    {
     "data": {
      "text/html": [
       "<div>\n",
       "<style scoped>\n",
       "    .dataframe tbody tr th:only-of-type {\n",
       "        vertical-align: middle;\n",
       "    }\n",
       "\n",
       "    .dataframe tbody tr th {\n",
       "        vertical-align: top;\n",
       "    }\n",
       "\n",
       "    .dataframe thead th {\n",
       "        text-align: right;\n",
       "    }\n",
       "</style>\n",
       "<table border=\"1\" class=\"dataframe\">\n",
       "  <thead>\n",
       "    <tr style=\"text-align: right;\">\n",
       "      <th></th>\n",
       "      <th>url</th>\n",
       "      <th>name/alias</th>\n",
       "      <th>appearances</th>\n",
       "      <th>current?</th>\n",
       "      <th>gender</th>\n",
       "      <th>probationary introl</th>\n",
       "      <th>full/reserve avengers intro</th>\n",
       "      <th>year</th>\n",
       "      <th>years since joining</th>\n",
       "      <th>honorary</th>\n",
       "      <th>...</th>\n",
       "      <th>return1</th>\n",
       "      <th>death2</th>\n",
       "      <th>return2</th>\n",
       "      <th>death3</th>\n",
       "      <th>return3</th>\n",
       "      <th>death4</th>\n",
       "      <th>return4</th>\n",
       "      <th>death5</th>\n",
       "      <th>return5</th>\n",
       "      <th>notes</th>\n",
       "    </tr>\n",
       "  </thead>\n",
       "  <tbody>\n",
       "    <tr>\n",
       "      <td>0</td>\n",
       "      <td>http://marvel.wikia.com/henry_pym_(earth-616)</td>\n",
       "      <td>henry jonathan \"hank\" pym</td>\n",
       "      <td>1269</td>\n",
       "      <td>yes</td>\n",
       "      <td>male</td>\n",
       "      <td>NaN</td>\n",
       "      <td>sep-63</td>\n",
       "      <td>1963</td>\n",
       "      <td>52</td>\n",
       "      <td>full</td>\n",
       "      <td>...</td>\n",
       "      <td>no</td>\n",
       "      <td>NaN</td>\n",
       "      <td>NaN</td>\n",
       "      <td>NaN</td>\n",
       "      <td>NaN</td>\n",
       "      <td>NaN</td>\n",
       "      <td>NaN</td>\n",
       "      <td>NaN</td>\n",
       "      <td>NaN</td>\n",
       "      <td>merged with ultron in rage of ultron vol. 1. a...</td>\n",
       "    </tr>\n",
       "    <tr>\n",
       "      <td>1</td>\n",
       "      <td>http://marvel.wikia.com/janet_van_dyne_(earth-...</td>\n",
       "      <td>janet van dyne</td>\n",
       "      <td>1165</td>\n",
       "      <td>yes</td>\n",
       "      <td>female</td>\n",
       "      <td>NaN</td>\n",
       "      <td>sep-63</td>\n",
       "      <td>1963</td>\n",
       "      <td>52</td>\n",
       "      <td>full</td>\n",
       "      <td>...</td>\n",
       "      <td>yes</td>\n",
       "      <td>NaN</td>\n",
       "      <td>NaN</td>\n",
       "      <td>NaN</td>\n",
       "      <td>NaN</td>\n",
       "      <td>NaN</td>\n",
       "      <td>NaN</td>\n",
       "      <td>NaN</td>\n",
       "      <td>NaN</td>\n",
       "      <td>dies in secret invasion v1:i8. actually was se...</td>\n",
       "    </tr>\n",
       "    <tr>\n",
       "      <td>2</td>\n",
       "      <td>http://marvel.wikia.com/anthony_stark_(earth-616)</td>\n",
       "      <td>anthony edward \"tony\" stark</td>\n",
       "      <td>3068</td>\n",
       "      <td>yes</td>\n",
       "      <td>male</td>\n",
       "      <td>NaN</td>\n",
       "      <td>sep-63</td>\n",
       "      <td>1963</td>\n",
       "      <td>52</td>\n",
       "      <td>full</td>\n",
       "      <td>...</td>\n",
       "      <td>yes</td>\n",
       "      <td>NaN</td>\n",
       "      <td>NaN</td>\n",
       "      <td>NaN</td>\n",
       "      <td>NaN</td>\n",
       "      <td>NaN</td>\n",
       "      <td>NaN</td>\n",
       "      <td>NaN</td>\n",
       "      <td>NaN</td>\n",
       "      <td>death: \"later while under the influence of imm...</td>\n",
       "    </tr>\n",
       "    <tr>\n",
       "      <td>3</td>\n",
       "      <td>http://marvel.wikia.com/robert_bruce_banner_(e...</td>\n",
       "      <td>robert bruce banner</td>\n",
       "      <td>2089</td>\n",
       "      <td>yes</td>\n",
       "      <td>male</td>\n",
       "      <td>NaN</td>\n",
       "      <td>sep-63</td>\n",
       "      <td>1963</td>\n",
       "      <td>52</td>\n",
       "      <td>full</td>\n",
       "      <td>...</td>\n",
       "      <td>yes</td>\n",
       "      <td>NaN</td>\n",
       "      <td>NaN</td>\n",
       "      <td>NaN</td>\n",
       "      <td>NaN</td>\n",
       "      <td>NaN</td>\n",
       "      <td>NaN</td>\n",
       "      <td>NaN</td>\n",
       "      <td>NaN</td>\n",
       "      <td>dies in ghosts of the future arc. however \"he ...</td>\n",
       "    </tr>\n",
       "    <tr>\n",
       "      <td>4</td>\n",
       "      <td>http://marvel.wikia.com/thor_odinson_(earth-616)</td>\n",
       "      <td>thor odinson</td>\n",
       "      <td>2402</td>\n",
       "      <td>yes</td>\n",
       "      <td>male</td>\n",
       "      <td>NaN</td>\n",
       "      <td>sep-63</td>\n",
       "      <td>1963</td>\n",
       "      <td>52</td>\n",
       "      <td>full</td>\n",
       "      <td>...</td>\n",
       "      <td>yes</td>\n",
       "      <td>yes</td>\n",
       "      <td>no</td>\n",
       "      <td>NaN</td>\n",
       "      <td>NaN</td>\n",
       "      <td>NaN</td>\n",
       "      <td>NaN</td>\n",
       "      <td>NaN</td>\n",
       "      <td>NaN</td>\n",
       "      <td>dies in fear itself brought back because that'...</td>\n",
       "    </tr>\n",
       "  </tbody>\n",
       "</table>\n",
       "<p>5 rows × 21 columns</p>\n",
       "</div>"
      ],
      "text/plain": [
       "                                                 url  \\\n",
       "0      http://marvel.wikia.com/henry_pym_(earth-616)   \n",
       "1  http://marvel.wikia.com/janet_van_dyne_(earth-...   \n",
       "2  http://marvel.wikia.com/anthony_stark_(earth-616)   \n",
       "3  http://marvel.wikia.com/robert_bruce_banner_(e...   \n",
       "4   http://marvel.wikia.com/thor_odinson_(earth-616)   \n",
       "\n",
       "                    name/alias  appearances current?  gender  \\\n",
       "0    henry jonathan \"hank\" pym         1269      yes    male   \n",
       "1               janet van dyne         1165      yes  female   \n",
       "2  anthony edward \"tony\" stark         3068      yes    male   \n",
       "3          robert bruce banner         2089      yes    male   \n",
       "4                 thor odinson         2402      yes    male   \n",
       "\n",
       "  probationary introl full/reserve avengers intro  year  years since joining  \\\n",
       "0                 NaN                      sep-63  1963                   52   \n",
       "1                 NaN                      sep-63  1963                   52   \n",
       "2                 NaN                      sep-63  1963                   52   \n",
       "3                 NaN                      sep-63  1963                   52   \n",
       "4                 NaN                      sep-63  1963                   52   \n",
       "\n",
       "  honorary  ... return1 death2 return2 death3 return3 death4 return4 death5  \\\n",
       "0     full  ...      no    NaN     NaN    NaN     NaN    NaN     NaN    NaN   \n",
       "1     full  ...     yes    NaN     NaN    NaN     NaN    NaN     NaN    NaN   \n",
       "2     full  ...     yes    NaN     NaN    NaN     NaN    NaN     NaN    NaN   \n",
       "3     full  ...     yes    NaN     NaN    NaN     NaN    NaN     NaN    NaN   \n",
       "4     full  ...     yes    yes      no    NaN     NaN    NaN     NaN    NaN   \n",
       "\n",
       "  return5                                              notes  \n",
       "0     NaN  merged with ultron in rage of ultron vol. 1. a...  \n",
       "1     NaN  dies in secret invasion v1:i8. actually was se...  \n",
       "2     NaN  death: \"later while under the influence of imm...  \n",
       "3     NaN  dies in ghosts of the future arc. however \"he ...  \n",
       "4     NaN  dies in fear itself brought back because that'...  \n",
       "\n",
       "[5 rows x 21 columns]"
      ]
     },
     "execution_count": 476,
     "metadata": {},
     "output_type": "execute_result"
    }
   ],
   "source": [
    "#display top 5 rows\n",
    "\n",
    "avengers.head(5)"
   ]
  },
  {
   "cell_type": "code",
   "execution_count": 477,
   "metadata": {},
   "outputs": [
    {
     "data": {
      "text/html": [
       "<div>\n",
       "<style scoped>\n",
       "    .dataframe tbody tr th:only-of-type {\n",
       "        vertical-align: middle;\n",
       "    }\n",
       "\n",
       "    .dataframe tbody tr th {\n",
       "        vertical-align: top;\n",
       "    }\n",
       "\n",
       "    .dataframe thead th {\n",
       "        text-align: right;\n",
       "    }\n",
       "</style>\n",
       "<table border=\"1\" class=\"dataframe\">\n",
       "  <thead>\n",
       "    <tr style=\"text-align: right;\">\n",
       "      <th></th>\n",
       "      <th>url</th>\n",
       "      <th>name/alias</th>\n",
       "      <th>appearances</th>\n",
       "      <th>current?</th>\n",
       "      <th>gender</th>\n",
       "      <th>probationary introl</th>\n",
       "      <th>full/reserve avengers intro</th>\n",
       "      <th>year</th>\n",
       "      <th>years since joining</th>\n",
       "      <th>honorary</th>\n",
       "      <th>...</th>\n",
       "      <th>return1</th>\n",
       "      <th>death2</th>\n",
       "      <th>return2</th>\n",
       "      <th>death3</th>\n",
       "      <th>return3</th>\n",
       "      <th>death4</th>\n",
       "      <th>return4</th>\n",
       "      <th>death5</th>\n",
       "      <th>return5</th>\n",
       "      <th>notes</th>\n",
       "    </tr>\n",
       "  </thead>\n",
       "  <tbody>\n",
       "    <tr>\n",
       "      <td>168</td>\n",
       "      <td>http://marvel.wikia.com/eric_brooks_(earth-616)#</td>\n",
       "      <td>eric brooks</td>\n",
       "      <td>198</td>\n",
       "      <td>yes</td>\n",
       "      <td>male</td>\n",
       "      <td>NaN</td>\n",
       "      <td>13-nov</td>\n",
       "      <td>2013</td>\n",
       "      <td>2</td>\n",
       "      <td>full</td>\n",
       "      <td>...</td>\n",
       "      <td>NaN</td>\n",
       "      <td>NaN</td>\n",
       "      <td>NaN</td>\n",
       "      <td>NaN</td>\n",
       "      <td>NaN</td>\n",
       "      <td>NaN</td>\n",
       "      <td>NaN</td>\n",
       "      <td>NaN</td>\n",
       "      <td>NaN</td>\n",
       "      <td>na</td>\n",
       "    </tr>\n",
       "    <tr>\n",
       "      <td>169</td>\n",
       "      <td>http://marvel.wikia.com/adam_brashear_(earth-6...</td>\n",
       "      <td>adam brashear</td>\n",
       "      <td>29</td>\n",
       "      <td>yes</td>\n",
       "      <td>male</td>\n",
       "      <td>NaN</td>\n",
       "      <td>14-jan</td>\n",
       "      <td>2014</td>\n",
       "      <td>1</td>\n",
       "      <td>full</td>\n",
       "      <td>...</td>\n",
       "      <td>NaN</td>\n",
       "      <td>NaN</td>\n",
       "      <td>NaN</td>\n",
       "      <td>NaN</td>\n",
       "      <td>NaN</td>\n",
       "      <td>NaN</td>\n",
       "      <td>NaN</td>\n",
       "      <td>NaN</td>\n",
       "      <td>NaN</td>\n",
       "      <td>na</td>\n",
       "    </tr>\n",
       "    <tr>\n",
       "      <td>170</td>\n",
       "      <td>http://marvel.wikia.com/victor_alvarez_(earth-...</td>\n",
       "      <td>victor alvarez</td>\n",
       "      <td>45</td>\n",
       "      <td>yes</td>\n",
       "      <td>male</td>\n",
       "      <td>NaN</td>\n",
       "      <td>14-jan</td>\n",
       "      <td>2014</td>\n",
       "      <td>1</td>\n",
       "      <td>full</td>\n",
       "      <td>...</td>\n",
       "      <td>NaN</td>\n",
       "      <td>NaN</td>\n",
       "      <td>NaN</td>\n",
       "      <td>NaN</td>\n",
       "      <td>NaN</td>\n",
       "      <td>NaN</td>\n",
       "      <td>NaN</td>\n",
       "      <td>NaN</td>\n",
       "      <td>NaN</td>\n",
       "      <td>na</td>\n",
       "    </tr>\n",
       "    <tr>\n",
       "      <td>171</td>\n",
       "      <td>http://marvel.wikia.com/ava_ayala_(earth-616)#</td>\n",
       "      <td>ava ayala</td>\n",
       "      <td>49</td>\n",
       "      <td>yes</td>\n",
       "      <td>female</td>\n",
       "      <td>NaN</td>\n",
       "      <td>14-jan</td>\n",
       "      <td>2014</td>\n",
       "      <td>1</td>\n",
       "      <td>full</td>\n",
       "      <td>...</td>\n",
       "      <td>NaN</td>\n",
       "      <td>NaN</td>\n",
       "      <td>NaN</td>\n",
       "      <td>NaN</td>\n",
       "      <td>NaN</td>\n",
       "      <td>NaN</td>\n",
       "      <td>NaN</td>\n",
       "      <td>NaN</td>\n",
       "      <td>NaN</td>\n",
       "      <td>na</td>\n",
       "    </tr>\n",
       "    <tr>\n",
       "      <td>172</td>\n",
       "      <td>http://marvel.wikia.com/kaluu_(earth-616)#</td>\n",
       "      <td>kaluu</td>\n",
       "      <td>35</td>\n",
       "      <td>yes</td>\n",
       "      <td>male</td>\n",
       "      <td>NaN</td>\n",
       "      <td>15-jan</td>\n",
       "      <td>2015</td>\n",
       "      <td>0</td>\n",
       "      <td>full</td>\n",
       "      <td>...</td>\n",
       "      <td>NaN</td>\n",
       "      <td>NaN</td>\n",
       "      <td>NaN</td>\n",
       "      <td>NaN</td>\n",
       "      <td>NaN</td>\n",
       "      <td>NaN</td>\n",
       "      <td>NaN</td>\n",
       "      <td>NaN</td>\n",
       "      <td>NaN</td>\n",
       "      <td>na</td>\n",
       "    </tr>\n",
       "  </tbody>\n",
       "</table>\n",
       "<p>5 rows × 21 columns</p>\n",
       "</div>"
      ],
      "text/plain": [
       "                                                   url      name/alias  \\\n",
       "168   http://marvel.wikia.com/eric_brooks_(earth-616)#     eric brooks   \n",
       "169  http://marvel.wikia.com/adam_brashear_(earth-6...   adam brashear   \n",
       "170  http://marvel.wikia.com/victor_alvarez_(earth-...  victor alvarez   \n",
       "171     http://marvel.wikia.com/ava_ayala_(earth-616)#       ava ayala   \n",
       "172         http://marvel.wikia.com/kaluu_(earth-616)#           kaluu   \n",
       "\n",
       "     appearances current?  gender probationary introl  \\\n",
       "168          198      yes    male                 NaN   \n",
       "169           29      yes    male                 NaN   \n",
       "170           45      yes    male                 NaN   \n",
       "171           49      yes  female                 NaN   \n",
       "172           35      yes    male                 NaN   \n",
       "\n",
       "    full/reserve avengers intro  year  years since joining honorary  ...  \\\n",
       "168                      13-nov  2013                    2     full  ...   \n",
       "169                      14-jan  2014                    1     full  ...   \n",
       "170                      14-jan  2014                    1     full  ...   \n",
       "171                      14-jan  2014                    1     full  ...   \n",
       "172                      15-jan  2015                    0     full  ...   \n",
       "\n",
       "    return1 death2 return2 death3 return3 death4 return4 death5 return5 notes  \n",
       "168     NaN    NaN     NaN    NaN     NaN    NaN     NaN    NaN     NaN    na  \n",
       "169     NaN    NaN     NaN    NaN     NaN    NaN     NaN    NaN     NaN    na  \n",
       "170     NaN    NaN     NaN    NaN     NaN    NaN     NaN    NaN     NaN    na  \n",
       "171     NaN    NaN     NaN    NaN     NaN    NaN     NaN    NaN     NaN    na  \n",
       "172     NaN    NaN     NaN    NaN     NaN    NaN     NaN    NaN     NaN    na  \n",
       "\n",
       "[5 rows x 21 columns]"
      ]
     },
     "execution_count": 477,
     "metadata": {},
     "output_type": "execute_result"
    }
   ],
   "source": [
    "#display bottom 5 rows\n",
    "avengers.tail(5)"
   ]
  },
  {
   "cell_type": "markdown",
   "metadata": {},
   "source": [
    "#### Step 3: Check the types of data for avengers"
   ]
  },
  {
   "cell_type": "code",
   "execution_count": 371,
   "metadata": {},
   "outputs": [
    {
     "data": {
      "text/plain": [
       "url                            object\n",
       "name/alias                     object\n",
       "appearances                     int64\n",
       "current?                       object\n",
       "gender                         object\n",
       "probationary introl            object\n",
       "full/reserve avengers intro    object\n",
       "year                            int64\n",
       "years since joining             int64\n",
       "honorary                       object\n",
       "death1                         object\n",
       "return1                        object\n",
       "death2                         object\n",
       "return2                        object\n",
       "death3                         object\n",
       "return3                        object\n",
       "death4                         object\n",
       "return4                        object\n",
       "death5                         object\n",
       "return5                        object\n",
       "notes                          object\n",
       "dtype: object"
      ]
     },
     "execution_count": 371,
     "metadata": {},
     "output_type": "execute_result"
    }
   ],
   "source": [
    "#checking data type\n",
    "\n",
    "avengers.dtypes"
   ]
  },
  {
   "cell_type": "markdown",
   "metadata": {},
   "source": [
    "#### Step 4: Drop the irrelavent columns"
   ]
  },
  {
   "cell_type": "code",
   "execution_count": 479,
   "metadata": {},
   "outputs": [
    {
     "data": {
      "text/html": [
       "<div>\n",
       "<style scoped>\n",
       "    .dataframe tbody tr th:only-of-type {\n",
       "        vertical-align: middle;\n",
       "    }\n",
       "\n",
       "    .dataframe tbody tr th {\n",
       "        vertical-align: top;\n",
       "    }\n",
       "\n",
       "    .dataframe thead th {\n",
       "        text-align: right;\n",
       "    }\n",
       "</style>\n",
       "<table border=\"1\" class=\"dataframe\">\n",
       "  <thead>\n",
       "    <tr style=\"text-align: right;\">\n",
       "      <th></th>\n",
       "      <th>name/alias</th>\n",
       "      <th>appearances</th>\n",
       "      <th>current?</th>\n",
       "      <th>gender</th>\n",
       "      <th>year</th>\n",
       "      <th>years since joining</th>\n",
       "      <th>death1</th>\n",
       "    </tr>\n",
       "  </thead>\n",
       "  <tbody>\n",
       "    <tr>\n",
       "      <td>0</td>\n",
       "      <td>henry jonathan \"hank\" pym</td>\n",
       "      <td>1269</td>\n",
       "      <td>yes</td>\n",
       "      <td>male</td>\n",
       "      <td>1963</td>\n",
       "      <td>52</td>\n",
       "      <td>yes</td>\n",
       "    </tr>\n",
       "    <tr>\n",
       "      <td>1</td>\n",
       "      <td>janet van dyne</td>\n",
       "      <td>1165</td>\n",
       "      <td>yes</td>\n",
       "      <td>female</td>\n",
       "      <td>1963</td>\n",
       "      <td>52</td>\n",
       "      <td>yes</td>\n",
       "    </tr>\n",
       "    <tr>\n",
       "      <td>2</td>\n",
       "      <td>anthony edward \"tony\" stark</td>\n",
       "      <td>3068</td>\n",
       "      <td>yes</td>\n",
       "      <td>male</td>\n",
       "      <td>1963</td>\n",
       "      <td>52</td>\n",
       "      <td>yes</td>\n",
       "    </tr>\n",
       "    <tr>\n",
       "      <td>3</td>\n",
       "      <td>robert bruce banner</td>\n",
       "      <td>2089</td>\n",
       "      <td>yes</td>\n",
       "      <td>male</td>\n",
       "      <td>1963</td>\n",
       "      <td>52</td>\n",
       "      <td>yes</td>\n",
       "    </tr>\n",
       "    <tr>\n",
       "      <td>4</td>\n",
       "      <td>thor odinson</td>\n",
       "      <td>2402</td>\n",
       "      <td>yes</td>\n",
       "      <td>male</td>\n",
       "      <td>1963</td>\n",
       "      <td>52</td>\n",
       "      <td>yes</td>\n",
       "    </tr>\n",
       "  </tbody>\n",
       "</table>\n",
       "</div>"
      ],
      "text/plain": [
       "                    name/alias  appearances current?  gender  year  \\\n",
       "0    henry jonathan \"hank\" pym         1269      yes    male  1963   \n",
       "1               janet van dyne         1165      yes  female  1963   \n",
       "2  anthony edward \"tony\" stark         3068      yes    male  1963   \n",
       "3          robert bruce banner         2089      yes    male  1963   \n",
       "4                 thor odinson         2402      yes    male  1963   \n",
       "\n",
       "   years since joining death1  \n",
       "0                   52    yes  \n",
       "1                   52    yes  \n",
       "2                   52    yes  \n",
       "3                   52    yes  \n",
       "4                   52    yes  "
      ]
     },
     "execution_count": 479,
     "metadata": {},
     "output_type": "execute_result"
    }
   ],
   "source": [
    "avengers = avengers.drop(['url','probationary introl','full/reserve avengers intro', 'honorary','return1', 'death2', 'return2', 'death3', 'return3', 'death4', 'return4', 'death5', 'return5', 'notes'], axis=1)\n",
    "avengers.head(5)"
   ]
  },
  {
   "cell_type": "markdown",
   "metadata": {},
   "source": [
    "#### Step 5: Rename the columns if necessary to make it easier to understand"
   ]
  },
  {
   "cell_type": "code",
   "execution_count": 480,
   "metadata": {},
   "outputs": [
    {
     "data": {
      "text/html": [
       "<div>\n",
       "<style scoped>\n",
       "    .dataframe tbody tr th:only-of-type {\n",
       "        vertical-align: middle;\n",
       "    }\n",
       "\n",
       "    .dataframe tbody tr th {\n",
       "        vertical-align: top;\n",
       "    }\n",
       "\n",
       "    .dataframe thead th {\n",
       "        text-align: right;\n",
       "    }\n",
       "</style>\n",
       "<table border=\"1\" class=\"dataframe\">\n",
       "  <thead>\n",
       "    <tr style=\"text-align: right;\">\n",
       "      <th></th>\n",
       "      <th>name</th>\n",
       "      <th>appearances</th>\n",
       "      <th>current?</th>\n",
       "      <th>gender</th>\n",
       "      <th>year</th>\n",
       "      <th>years since joining</th>\n",
       "      <th>survived</th>\n",
       "    </tr>\n",
       "  </thead>\n",
       "  <tbody>\n",
       "    <tr>\n",
       "      <td>0</td>\n",
       "      <td>henry jonathan \"hank\" pym</td>\n",
       "      <td>1269</td>\n",
       "      <td>yes</td>\n",
       "      <td>male</td>\n",
       "      <td>1963</td>\n",
       "      <td>52</td>\n",
       "      <td>yes</td>\n",
       "    </tr>\n",
       "    <tr>\n",
       "      <td>1</td>\n",
       "      <td>janet van dyne</td>\n",
       "      <td>1165</td>\n",
       "      <td>yes</td>\n",
       "      <td>female</td>\n",
       "      <td>1963</td>\n",
       "      <td>52</td>\n",
       "      <td>yes</td>\n",
       "    </tr>\n",
       "    <tr>\n",
       "      <td>2</td>\n",
       "      <td>anthony edward \"tony\" stark</td>\n",
       "      <td>3068</td>\n",
       "      <td>yes</td>\n",
       "      <td>male</td>\n",
       "      <td>1963</td>\n",
       "      <td>52</td>\n",
       "      <td>yes</td>\n",
       "    </tr>\n",
       "    <tr>\n",
       "      <td>3</td>\n",
       "      <td>robert bruce banner</td>\n",
       "      <td>2089</td>\n",
       "      <td>yes</td>\n",
       "      <td>male</td>\n",
       "      <td>1963</td>\n",
       "      <td>52</td>\n",
       "      <td>yes</td>\n",
       "    </tr>\n",
       "    <tr>\n",
       "      <td>4</td>\n",
       "      <td>thor odinson</td>\n",
       "      <td>2402</td>\n",
       "      <td>yes</td>\n",
       "      <td>male</td>\n",
       "      <td>1963</td>\n",
       "      <td>52</td>\n",
       "      <td>yes</td>\n",
       "    </tr>\n",
       "  </tbody>\n",
       "</table>\n",
       "</div>"
      ],
      "text/plain": [
       "                          name  appearances current?  gender  year  \\\n",
       "0    henry jonathan \"hank\" pym         1269      yes    male  1963   \n",
       "1               janet van dyne         1165      yes  female  1963   \n",
       "2  anthony edward \"tony\" stark         3068      yes    male  1963   \n",
       "3          robert bruce banner         2089      yes    male  1963   \n",
       "4                 thor odinson         2402      yes    male  1963   \n",
       "\n",
       "   years since joining survived  \n",
       "0                   52      yes  \n",
       "1                   52      yes  \n",
       "2                   52      yes  \n",
       "3                   52      yes  \n",
       "4                   52      yes  "
      ]
     },
     "execution_count": 480,
     "metadata": {},
     "output_type": "execute_result"
    }
   ],
   "source": [
    "#renaming columns\n",
    "\n",
    "avengers = avengers.rename(columns={\"name/alias\": \"name\", \"death1\": \"survived\"})\n",
    "avengers.head(5)"
   ]
  },
  {
   "cell_type": "markdown",
   "metadata": {},
   "source": [
    "## Variables Explained\n",
    "NAME: Name of Avenger  \n",
    "APPEARANCES: how many times they have appeared in the comics/movies  \n",
    "CURRENT?: If they are currently in the Avengers (before Age of Ultron)  \n",
    "GENDER: Male or Female  \n",
    "YEAR: Year they joined the Avengers  \n",
    "YEARS SINCE JOINING: how long they have been in the Avengers for  \n",
    "SURVIVED: If they died once (could be dead dead or could have come back to life in later movies but we are only looking at if they have died at least one time), or if they lived\n",
    "    "
   ]
  },
  {
   "cell_type": "code",
   "execution_count": 481,
   "metadata": {},
   "outputs": [
    {
     "data": {
      "text/plain": [
       "(173, 7)"
      ]
     },
     "execution_count": 481,
     "metadata": {},
     "output_type": "execute_result"
    }
   ],
   "source": [
    "#total number of rows and columns\n",
    "avengers.shape"
   ]
  },
  {
   "cell_type": "code",
   "execution_count": 482,
   "metadata": {
    "scrolled": true
   },
   "outputs": [
    {
     "data": {
      "text/plain": [
       "name                   163\n",
       "appearances            173\n",
       "current?               173\n",
       "gender                 173\n",
       "year                   173\n",
       "years since joining    173\n",
       "survived               173\n",
       "dtype: int64"
      ]
     },
     "execution_count": 482,
     "metadata": {},
     "output_type": "execute_result"
    }
   ],
   "source": [
    "#count the number of rows\n",
    "avengers.count()"
   ]
  },
  {
   "cell_type": "markdown",
   "metadata": {},
   "source": [
    "#### Step 6: Making Histograms\n"
   ]
  },
  {
   "cell_type": "code",
   "execution_count": 483,
   "metadata": {},
   "outputs": [
    {
     "data": {
      "text/plain": [
       "name                   object\n",
       "appearances             int64\n",
       "current?               object\n",
       "gender                 object\n",
       "year                    int64\n",
       "years since joining     int64\n",
       "survived               object\n",
       "dtype: object"
      ]
     },
     "execution_count": 483,
     "metadata": {},
     "output_type": "execute_result"
    }
   ],
   "source": [
    "avengers.dtypes"
   ]
  },
  {
   "cell_type": "code",
   "execution_count": 484,
   "metadata": {},
   "outputs": [
    {
     "data": {
      "image/png": "[encoded data removed]",
      "text/plain": [
       "<Figure size 432x288 with 1 Axes>"
      ]
     },
     "metadata": {},
     "output_type": "display_data"
    }
   ],
   "source": [
    "#histogram of appearances\n",
    "\n",
    "appearances_hist = avengers[\"appearances\"].hist(bins = 10, color = \"red\")"
   ]
  },
  {
   "cell_type": "markdown",
   "metadata": {},
   "source": [
    "Postively skewed  \n"
   ]
  },
  {
   "cell_type": "code",
   "execution_count": 485,
   "metadata": {
    "scrolled": true
   },
   "outputs": [
    {
     "data": {
      "image/png": "[encoded data removed]",
      "text/plain": [
       "<Figure size 432x288 with 1 Axes>"
      ]
     },
     "metadata": {},
     "output_type": "display_data"
    }
   ],
   "source": [
    "#histogram of year\n",
    "\n",
    "year_hist = avengers[\"year\"].hist(bins = 20, color = \"blue\")"
   ]
  },
  {
   "cell_type": "markdown",
   "metadata": {},
   "source": [
    "Negatively skewed  \n",
    "\n",
    "\n"
   ]
  },
  {
   "cell_type": "code",
   "execution_count": 486,
   "metadata": {},
   "outputs": [
    {
     "data": {
      "image/png": "[encoded data removed]",
      "text/plain": [
       "<Figure size 432x288 with 1 Axes>"
      ]
     },
     "metadata": {},
     "output_type": "display_data"
    }
   ],
   "source": [
    "#histogram of years since joining\n",
    "\n",
    "years_since_joining_hist = avengers[\"years since joining\"].hist(bins = 20, color = \"green\")"
   ]
  },
  {
   "cell_type": "markdown",
   "metadata": {},
   "source": [
    "Postively skewed"
   ]
  },
  {
   "cell_type": "markdown",
   "metadata": {},
   "source": [
    "#### Step 7: Lets have some fun with this data!!"
   ]
  },
  {
   "cell_type": "code",
   "execution_count": 487,
   "metadata": {
    "scrolled": true
   },
   "outputs": [
    {
     "data": {
      "text/plain": [
       "115"
      ]
     },
     "execution_count": 487,
     "metadata": {},
     "output_type": "execute_result"
    }
   ],
   "source": [
    "longest_avenger_in= avengers[\"years since joining\"].max()\n",
    "longest_avenger_in"
   ]
  },
  {
   "cell_type": "markdown",
   "metadata": {},
   "source": [
    "the avenger that has been in the avengers the longest has been in for **115 years**!"
   ]
  },
  {
   "cell_type": "code",
   "execution_count": 488,
   "metadata": {},
   "outputs": [
    {
     "data": {
      "text/plain": [
       "75"
      ]
     },
     "execution_count": 488,
     "metadata": {},
     "output_type": "execute_result"
    }
   ],
   "source": [
    "max_row = avengers[\"years since joining\"].idxmax()\n",
    "max_row"
   ]
  },
  {
   "cell_type": "code",
   "execution_count": 623,
   "metadata": {},
   "outputs": [
    {
     "data": {
      "text/plain": [
       "name                   elvin haliday\n",
       "appearances                      158\n",
       "current?                          no\n",
       "gender                          male\n",
       "year                            1900\n",
       "years since joining              115\n",
       "survived                          no\n",
       "Name: 75, dtype: object"
      ]
     },
     "execution_count": 623,
     "metadata": {},
     "output_type": "execute_result"
    }
   ],
   "source": [
    "avengers.iloc[max_row]\n",
    "\n",
    "#iloc gives all the information on the row that is being called."
   ]
  },
  {
   "cell_type": "markdown",
   "metadata": {},
   "source": [
    "**Elvin Haliday** is the avenger that has been in the avengers the longest.  \n",
    "he has appeared **158** times.  \n",
    "He is **not a current** avenger.  \n",
    "He is a **male**.\n",
    "He joined the avengers in **1900**.  \n",
    "He had been in the avengers for **115 years**.  \n",
    "He **did not survive**.\n",
    "\n"
   ]
  },
  {
   "cell_type": "code",
   "execution_count": 490,
   "metadata": {},
   "outputs": [
    {
     "data": {
      "text/plain": [
       "0"
      ]
     },
     "execution_count": 490,
     "metadata": {},
     "output_type": "execute_result"
    }
   ],
   "source": [
    "newest_avenger_in= avengers[\"years since joining\"].min()\n",
    "newest_avenger_in"
   ]
  },
  {
   "cell_type": "markdown",
   "metadata": {},
   "source": [
    "the newest avenger in has not even been in a full year yet!"
   ]
  },
  {
   "cell_type": "code",
   "execution_count": 491,
   "metadata": {},
   "outputs": [
    {
     "data": {
      "text/plain": [
       "157"
      ]
     },
     "execution_count": 491,
     "metadata": {},
     "output_type": "execute_result"
    }
   ],
   "source": [
    "min_row = avengers[\"years since joining\"].idxmin()\n",
    "min_row"
   ]
  },
  {
   "cell_type": "code",
   "execution_count": 492,
   "metadata": {},
   "outputs": [
    {
     "data": {
      "text/plain": [
       "name                   sam alexander\n",
       "appearances                       78\n",
       "current?                         yes\n",
       "gender                          male\n",
       "year                            2015\n",
       "years since joining                0\n",
       "survived                          no\n",
       "Name: 157, dtype: object"
      ]
     },
     "execution_count": 492,
     "metadata": {},
     "output_type": "execute_result"
    }
   ],
   "source": [
    "avengers.iloc[min_row]"
   ]
  },
  {
   "cell_type": "markdown",
   "metadata": {},
   "source": [
    "**Sam Alexander** is the avenger that is the newest.  \n",
    "he has appeared **78** times.  \n",
    "He **is a current** avenger.  \n",
    "He is a **male**.\n",
    "He joined the avengers in **2015**.  \n",
    "He has been in the avengers for **less than a year**.  \n",
    "He **is currently alive**."
   ]
  },
  {
   "cell_type": "code",
   "execution_count": 493,
   "metadata": {},
   "outputs": [
    {
     "data": {
      "text/plain": [
       "0    2\n",
       "dtype: int64"
      ]
     },
     "execution_count": 493,
     "metadata": {},
     "output_type": "execute_result"
    }
   ],
   "source": [
    "avengers[\"years since joining\"].mode()"
   ]
  },
  {
   "cell_type": "code",
   "execution_count": 494,
   "metadata": {},
   "outputs": [
    {
     "data": {
      "text/plain": [
       "26.55491329479769"
      ]
     },
     "execution_count": 494,
     "metadata": {},
     "output_type": "execute_result"
    }
   ],
   "source": [
    "avengers[\"years since joining\"].mean()"
   ]
  },
  {
   "cell_type": "code",
   "execution_count": 495,
   "metadata": {},
   "outputs": [
    {
     "data": {
      "text/plain": [
       "19.0"
      ]
     },
     "execution_count": 495,
     "metadata": {},
     "output_type": "execute_result"
    }
   ],
   "source": [
    "avengers[\"years since joining\"].median()"
   ]
  },
  {
   "cell_type": "code",
   "execution_count": 496,
   "metadata": {},
   "outputs": [
    {
     "data": {
      "text/plain": [
       "922.620513509881"
      ]
     },
     "execution_count": 496,
     "metadata": {},
     "output_type": "execute_result"
    }
   ],
   "source": [
    "avengers[\"years since joining\"].var()"
   ]
  },
  {
   "cell_type": "code",
   "execution_count": 497,
   "metadata": {},
   "outputs": [
    {
     "data": {
      "text/plain": [
       "30.374668944860634"
      ]
     },
     "execution_count": 497,
     "metadata": {},
     "output_type": "execute_result"
    }
   ],
   "source": [
    "avengers[\"years since joining\"].std()"
   ]
  },
  {
   "cell_type": "code",
   "execution_count": 558,
   "metadata": {},
   "outputs": [
    {
     "data": {
      "text/plain": [
       "male      115\n",
       "female     58\n",
       "Name: gender, dtype: int64"
      ]
     },
     "execution_count": 558,
     "metadata": {},
     "output_type": "execute_result"
    }
   ],
   "source": [
    "avengers['gender'].value_counts()"
   ]
  },
  {
   "cell_type": "code",
   "execution_count": 559,
   "metadata": {},
   "outputs": [
    {
     "data": {
      "text/plain": [
       "(array([0, 1]), <a list of 2 Text xticklabel objects>)"
      ]
     },
     "execution_count": 559,
     "metadata": {},
     "output_type": "execute_result"
    },
    {
     "data": {
      "image/png": "[encoded data removed]",
      "text/plain": [
       "<Figure size 432x288 with 1 Axes>"
      ]
     },
     "metadata": {},
     "output_type": "display_data"
    }
   ],
   "source": [
    "avengers['gender'].value_counts().plot(kind = \"bar\")\n",
    "plt.title(\"Gender Breakdown in the Avengers\")\n",
    "plt.xlabel(\"Gender\")\n",
    "plt.ylabel(\"Count\")\n",
    "plt.xticks(rotation = 0, horizontalalignment = \"right\")"
   ]
  },
  {
   "cell_type": "code",
   "execution_count": 519,
   "metadata": {},
   "outputs": [
    {
     "data": {
      "text/plain": [
       "0      False\n",
       "1       True\n",
       "2      False\n",
       "3      False\n",
       "4      False\n",
       "       ...  \n",
       "168    False\n",
       "169    False\n",
       "170    False\n",
       "171     True\n",
       "172    False\n",
       "Name: gender, Length: 173, dtype: bool"
      ]
     },
     "execution_count": 519,
     "metadata": {},
     "output_type": "execute_result"
    }
   ],
   "source": [
    "female_filter = avengers[\"gender\"] == \"female\"\n",
    "female_filter"
   ]
  },
  {
   "cell_type": "code",
   "execution_count": 520,
   "metadata": {},
   "outputs": [
    {
     "data": {
      "text/plain": [
       "58"
      ]
     },
     "execution_count": 520,
     "metadata": {},
     "output_type": "execute_result"
    }
   ],
   "source": [
    "female_filter.sum()"
   ]
  },
  {
   "cell_type": "code",
   "execution_count": 560,
   "metadata": {},
   "outputs": [
    {
     "data": {
      "text/html": [
       "<div>\n",
       "<style scoped>\n",
       "    .dataframe tbody tr th:only-of-type {\n",
       "        vertical-align: middle;\n",
       "    }\n",
       "\n",
       "    .dataframe tbody tr th {\n",
       "        vertical-align: top;\n",
       "    }\n",
       "\n",
       "    .dataframe thead th {\n",
       "        text-align: right;\n",
       "    }\n",
       "</style>\n",
       "<table border=\"1\" class=\"dataframe\">\n",
       "  <thead>\n",
       "    <tr style=\"text-align: right;\">\n",
       "      <th></th>\n",
       "      <th>name</th>\n",
       "      <th>appearances</th>\n",
       "      <th>current?</th>\n",
       "      <th>gender</th>\n",
       "      <th>year</th>\n",
       "      <th>years since joining</th>\n",
       "      <th>survived</th>\n",
       "    </tr>\n",
       "  </thead>\n",
       "  <tbody>\n",
       "    <tr>\n",
       "      <td>1</td>\n",
       "      <td>janet van dyne</td>\n",
       "      <td>1165</td>\n",
       "      <td>yes</td>\n",
       "      <td>female</td>\n",
       "      <td>1963</td>\n",
       "      <td>52</td>\n",
       "      <td>yes</td>\n",
       "    </tr>\n",
       "    <tr>\n",
       "      <td>9</td>\n",
       "      <td>wanda maximoff</td>\n",
       "      <td>1214</td>\n",
       "      <td>yes</td>\n",
       "      <td>female</td>\n",
       "      <td>1965</td>\n",
       "      <td>50</td>\n",
       "      <td>yes</td>\n",
       "    </tr>\n",
       "    <tr>\n",
       "      <td>15</td>\n",
       "      <td>natalia alianovna romanova</td>\n",
       "      <td>1112</td>\n",
       "      <td>yes</td>\n",
       "      <td>female</td>\n",
       "      <td>1973</td>\n",
       "      <td>42</td>\n",
       "      <td>yes</td>\n",
       "    </tr>\n",
       "    <tr>\n",
       "      <td>16</td>\n",
       "      <td>brandt</td>\n",
       "      <td>160</td>\n",
       "      <td>no</td>\n",
       "      <td>female</td>\n",
       "      <td>1973</td>\n",
       "      <td>42</td>\n",
       "      <td>yes</td>\n",
       "    </tr>\n",
       "    <tr>\n",
       "      <td>18</td>\n",
       "      <td>heather douglas</td>\n",
       "      <td>332</td>\n",
       "      <td>no</td>\n",
       "      <td>female</td>\n",
       "      <td>1976</td>\n",
       "      <td>39</td>\n",
       "      <td>yes</td>\n",
       "    </tr>\n",
       "    <tr>\n",
       "      <td>19</td>\n",
       "      <td>patsy walker</td>\n",
       "      <td>557</td>\n",
       "      <td>no</td>\n",
       "      <td>female</td>\n",
       "      <td>1976</td>\n",
       "      <td>39</td>\n",
       "      <td>yes</td>\n",
       "    </tr>\n",
       "    <tr>\n",
       "      <td>26</td>\n",
       "      <td>nicholette gold</td>\n",
       "      <td>108</td>\n",
       "      <td>no</td>\n",
       "      <td>female</td>\n",
       "      <td>1978</td>\n",
       "      <td>37</td>\n",
       "      <td>no</td>\n",
       "    </tr>\n",
       "    <tr>\n",
       "      <td>30</td>\n",
       "      <td>carol susan jane danvers</td>\n",
       "      <td>935</td>\n",
       "      <td>yes</td>\n",
       "      <td>female</td>\n",
       "      <td>1979</td>\n",
       "      <td>36</td>\n",
       "      <td>no</td>\n",
       "    </tr>\n",
       "    <tr>\n",
       "      <td>32</td>\n",
       "      <td>jocasta</td>\n",
       "      <td>141</td>\n",
       "      <td>yes</td>\n",
       "      <td>female</td>\n",
       "      <td>1988</td>\n",
       "      <td>27</td>\n",
       "      <td>yes</td>\n",
       "    </tr>\n",
       "    <tr>\n",
       "      <td>33</td>\n",
       "      <td>greer grant nelson</td>\n",
       "      <td>355</td>\n",
       "      <td>yes</td>\n",
       "      <td>female</td>\n",
       "      <td>1981</td>\n",
       "      <td>34</td>\n",
       "      <td>no</td>\n",
       "    </tr>\n",
       "    <tr>\n",
       "      <td>34</td>\n",
       "      <td>jennifer walters</td>\n",
       "      <td>933</td>\n",
       "      <td>yes</td>\n",
       "      <td>female</td>\n",
       "      <td>1982</td>\n",
       "      <td>33</td>\n",
       "      <td>yes</td>\n",
       "    </tr>\n",
       "    <tr>\n",
       "      <td>35</td>\n",
       "      <td>monica rambeau</td>\n",
       "      <td>348</td>\n",
       "      <td>yes</td>\n",
       "      <td>female</td>\n",
       "      <td>1983</td>\n",
       "      <td>32</td>\n",
       "      <td>no</td>\n",
       "    </tr>\n",
       "    <tr>\n",
       "      <td>38</td>\n",
       "      <td>barbara barton (nee morse)</td>\n",
       "      <td>374</td>\n",
       "      <td>no</td>\n",
       "      <td>female</td>\n",
       "      <td>1984</td>\n",
       "      <td>31</td>\n",
       "      <td>yes</td>\n",
       "    </tr>\n",
       "    <tr>\n",
       "      <td>39</td>\n",
       "      <td>moira brandon</td>\n",
       "      <td>2</td>\n",
       "      <td>no</td>\n",
       "      <td>female</td>\n",
       "      <td>1993</td>\n",
       "      <td>22</td>\n",
       "      <td>yes</td>\n",
       "    </tr>\n",
       "    <tr>\n",
       "      <td>41</td>\n",
       "      <td>bonita juarez</td>\n",
       "      <td>83</td>\n",
       "      <td>no</td>\n",
       "      <td>female</td>\n",
       "      <td>1987</td>\n",
       "      <td>28</td>\n",
       "      <td>no</td>\n",
       "    </tr>\n",
       "    <tr>\n",
       "      <td>46</td>\n",
       "      <td>julia carpenter</td>\n",
       "      <td>218</td>\n",
       "      <td>no</td>\n",
       "      <td>female</td>\n",
       "      <td>1992</td>\n",
       "      <td>23</td>\n",
       "      <td>no</td>\n",
       "    </tr>\n",
       "    <tr>\n",
       "      <td>52</td>\n",
       "      <td>marrina smallwood</td>\n",
       "      <td>86</td>\n",
       "      <td>no</td>\n",
       "      <td>female</td>\n",
       "      <td>1987</td>\n",
       "      <td>28</td>\n",
       "      <td>yes</td>\n",
       "    </tr>\n",
       "    <tr>\n",
       "      <td>53</td>\n",
       "      <td>ravonna lexus renslayer</td>\n",
       "      <td>41</td>\n",
       "      <td>no</td>\n",
       "      <td>female</td>\n",
       "      <td>1988</td>\n",
       "      <td>27</td>\n",
       "      <td>yes</td>\n",
       "    </tr>\n",
       "    <tr>\n",
       "      <td>54</td>\n",
       "      <td>rita demara</td>\n",
       "      <td>68</td>\n",
       "      <td>no</td>\n",
       "      <td>female</td>\n",
       "      <td>1988</td>\n",
       "      <td>27</td>\n",
       "      <td>yes</td>\n",
       "    </tr>\n",
       "    <tr>\n",
       "      <td>60</td>\n",
       "      <td>ashley crawford</td>\n",
       "      <td>36</td>\n",
       "      <td>yes</td>\n",
       "      <td>female</td>\n",
       "      <td>1989</td>\n",
       "      <td>26</td>\n",
       "      <td>no</td>\n",
       "    </tr>\n",
       "    <tr>\n",
       "      <td>61</td>\n",
       "      <td>NaN</td>\n",
       "      <td>22</td>\n",
       "      <td>no</td>\n",
       "      <td>female</td>\n",
       "      <td>1989</td>\n",
       "      <td>26</td>\n",
       "      <td>yes</td>\n",
       "    </tr>\n",
       "    <tr>\n",
       "      <td>66</td>\n",
       "      <td>dorreen green</td>\n",
       "      <td>47</td>\n",
       "      <td>no</td>\n",
       "      <td>female</td>\n",
       "      <td>2005</td>\n",
       "      <td>10</td>\n",
       "      <td>no</td>\n",
       "    </tr>\n",
       "    <tr>\n",
       "      <td>69</td>\n",
       "      <td>NaN</td>\n",
       "      <td>16</td>\n",
       "      <td>no</td>\n",
       "      <td>female</td>\n",
       "      <td>2005</td>\n",
       "      <td>10</td>\n",
       "      <td>no</td>\n",
       "    </tr>\n",
       "    <tr>\n",
       "      <td>72</td>\n",
       "      <td>circe</td>\n",
       "      <td>237</td>\n",
       "      <td>no</td>\n",
       "      <td>female</td>\n",
       "      <td>1990</td>\n",
       "      <td>25</td>\n",
       "      <td>no</td>\n",
       "    </tr>\n",
       "    <tr>\n",
       "      <td>77</td>\n",
       "      <td>crystal amaquelin maximoff</td>\n",
       "      <td>517</td>\n",
       "      <td>no</td>\n",
       "      <td>female</td>\n",
       "      <td>1992</td>\n",
       "      <td>23</td>\n",
       "      <td>no</td>\n",
       "    </tr>\n",
       "    <tr>\n",
       "      <td>80</td>\n",
       "      <td>NaN</td>\n",
       "      <td>28</td>\n",
       "      <td>no</td>\n",
       "      <td>female</td>\n",
       "      <td>1993</td>\n",
       "      <td>22</td>\n",
       "      <td>no</td>\n",
       "    </tr>\n",
       "    <tr>\n",
       "      <td>81</td>\n",
       "      <td>NaN</td>\n",
       "      <td>50</td>\n",
       "      <td>no</td>\n",
       "      <td>female</td>\n",
       "      <td>1993</td>\n",
       "      <td>22</td>\n",
       "      <td>yes</td>\n",
       "    </tr>\n",
       "    <tr>\n",
       "      <td>83</td>\n",
       "      <td>\"giulietta nefaria\"</td>\n",
       "      <td>18</td>\n",
       "      <td>no</td>\n",
       "      <td>female</td>\n",
       "      <td>1996</td>\n",
       "      <td>19</td>\n",
       "      <td>yes</td>\n",
       "    </tr>\n",
       "    <tr>\n",
       "      <td>85</td>\n",
       "      <td>angelica jones</td>\n",
       "      <td>330</td>\n",
       "      <td>no</td>\n",
       "      <td>female</td>\n",
       "      <td>1998</td>\n",
       "      <td>17</td>\n",
       "      <td>no</td>\n",
       "    </tr>\n",
       "    <tr>\n",
       "      <td>87</td>\n",
       "      <td>maria de guadalupe santiago</td>\n",
       "      <td>43</td>\n",
       "      <td>no</td>\n",
       "      <td>female</td>\n",
       "      <td>2000</td>\n",
       "      <td>15</td>\n",
       "      <td>no</td>\n",
       "    </tr>\n",
       "    <tr>\n",
       "      <td>89</td>\n",
       "      <td>kelsey leigh shorr</td>\n",
       "      <td>24</td>\n",
       "      <td>no</td>\n",
       "      <td>female</td>\n",
       "      <td>2004</td>\n",
       "      <td>11</td>\n",
       "      <td>no</td>\n",
       "    </tr>\n",
       "    <tr>\n",
       "      <td>91</td>\n",
       "      <td>veranke</td>\n",
       "      <td>159</td>\n",
       "      <td>no</td>\n",
       "      <td>female</td>\n",
       "      <td>2005</td>\n",
       "      <td>10</td>\n",
       "      <td>yes</td>\n",
       "    </tr>\n",
       "    <tr>\n",
       "      <td>94</td>\n",
       "      <td>maya lopez</td>\n",
       "      <td>67</td>\n",
       "      <td>no</td>\n",
       "      <td>female</td>\n",
       "      <td>2005</td>\n",
       "      <td>10</td>\n",
       "      <td>yes</td>\n",
       "    </tr>\n",
       "    <tr>\n",
       "      <td>99</td>\n",
       "      <td>cassie lang</td>\n",
       "      <td>160</td>\n",
       "      <td>no</td>\n",
       "      <td>female</td>\n",
       "      <td>2005</td>\n",
       "      <td>10</td>\n",
       "      <td>yes</td>\n",
       "    </tr>\n",
       "    <tr>\n",
       "      <td>100</td>\n",
       "      <td>katherine \"kate\" bishop</td>\n",
       "      <td>132</td>\n",
       "      <td>yes</td>\n",
       "      <td>female</td>\n",
       "      <td>2005</td>\n",
       "      <td>10</td>\n",
       "      <td>no</td>\n",
       "    </tr>\n",
       "    <tr>\n",
       "      <td>107</td>\n",
       "      <td>jessica miriam drew</td>\n",
       "      <td>525</td>\n",
       "      <td>yes</td>\n",
       "      <td>female</td>\n",
       "      <td>2008</td>\n",
       "      <td>7</td>\n",
       "      <td>no</td>\n",
       "    </tr>\n",
       "    <tr>\n",
       "      <td>108</td>\n",
       "      <td>jessica jones</td>\n",
       "      <td>205</td>\n",
       "      <td>yes</td>\n",
       "      <td>female</td>\n",
       "      <td>2010</td>\n",
       "      <td>5</td>\n",
       "      <td>no</td>\n",
       "    </tr>\n",
       "    <tr>\n",
       "      <td>110</td>\n",
       "      <td>maria hill</td>\n",
       "      <td>359</td>\n",
       "      <td>yes</td>\n",
       "      <td>female</td>\n",
       "      <td>2010</td>\n",
       "      <td>5</td>\n",
       "      <td>no</td>\n",
       "    </tr>\n",
       "    <tr>\n",
       "      <td>112</td>\n",
       "      <td>sharon carter</td>\n",
       "      <td>333</td>\n",
       "      <td>no</td>\n",
       "      <td>female</td>\n",
       "      <td>2010</td>\n",
       "      <td>5</td>\n",
       "      <td>yes</td>\n",
       "    </tr>\n",
       "    <tr>\n",
       "      <td>114</td>\n",
       "      <td>brunnhilde</td>\n",
       "      <td>369</td>\n",
       "      <td>no</td>\n",
       "      <td>female</td>\n",
       "      <td>2010</td>\n",
       "      <td>5</td>\n",
       "      <td>no</td>\n",
       "    </tr>\n",
       "    <tr>\n",
       "      <td>124</td>\n",
       "      <td>jeanne foucault</td>\n",
       "      <td>63</td>\n",
       "      <td>yes</td>\n",
       "      <td>female</td>\n",
       "      <td>2010</td>\n",
       "      <td>5</td>\n",
       "      <td>no</td>\n",
       "    </tr>\n",
       "    <tr>\n",
       "      <td>125</td>\n",
       "      <td>fiona</td>\n",
       "      <td>2</td>\n",
       "      <td>yes</td>\n",
       "      <td>female</td>\n",
       "      <td>1900</td>\n",
       "      <td>115</td>\n",
       "      <td>no</td>\n",
       "    </tr>\n",
       "    <tr>\n",
       "      <td>126</td>\n",
       "      <td>jennifer takeda</td>\n",
       "      <td>73</td>\n",
       "      <td>yes</td>\n",
       "      <td>female</td>\n",
       "      <td>2010</td>\n",
       "      <td>5</td>\n",
       "      <td>no</td>\n",
       "    </tr>\n",
       "    <tr>\n",
       "      <td>127</td>\n",
       "      <td>yvette</td>\n",
       "      <td>22</td>\n",
       "      <td>yes</td>\n",
       "      <td>female</td>\n",
       "      <td>1900</td>\n",
       "      <td>115</td>\n",
       "      <td>no</td>\n",
       "    </tr>\n",
       "    <tr>\n",
       "      <td>128</td>\n",
       "      <td>julie power</td>\n",
       "      <td>153</td>\n",
       "      <td>yes</td>\n",
       "      <td>female</td>\n",
       "      <td>1900</td>\n",
       "      <td>115</td>\n",
       "      <td>no</td>\n",
       "    </tr>\n",
       "    <tr>\n",
       "      <td>129</td>\n",
       "      <td>alani ryan</td>\n",
       "      <td>73</td>\n",
       "      <td>yes</td>\n",
       "      <td>female</td>\n",
       "      <td>1900</td>\n",
       "      <td>115</td>\n",
       "      <td>no</td>\n",
       "    </tr>\n",
       "    <tr>\n",
       "      <td>133</td>\n",
       "      <td>lyra</td>\n",
       "      <td>55</td>\n",
       "      <td>yes</td>\n",
       "      <td>female</td>\n",
       "      <td>1900</td>\n",
       "      <td>115</td>\n",
       "      <td>no</td>\n",
       "    </tr>\n",
       "    <tr>\n",
       "      <td>134</td>\n",
       "      <td>anya corazon</td>\n",
       "      <td>108</td>\n",
       "      <td>yes</td>\n",
       "      <td>female</td>\n",
       "      <td>1900</td>\n",
       "      <td>115</td>\n",
       "      <td>no</td>\n",
       "    </tr>\n",
       "    <tr>\n",
       "      <td>137</td>\n",
       "      <td>michiko musashi</td>\n",
       "      <td>94</td>\n",
       "      <td>yes</td>\n",
       "      <td>female</td>\n",
       "      <td>1900</td>\n",
       "      <td>115</td>\n",
       "      <td>no</td>\n",
       "    </tr>\n",
       "    <tr>\n",
       "      <td>139</td>\n",
       "      <td>daisy johnson</td>\n",
       "      <td>81</td>\n",
       "      <td>no</td>\n",
       "      <td>female</td>\n",
       "      <td>2012</td>\n",
       "      <td>3</td>\n",
       "      <td>no</td>\n",
       "    </tr>\n",
       "    <tr>\n",
       "      <td>140</td>\n",
       "      <td>ororo munroe</td>\n",
       "      <td>1598</td>\n",
       "      <td>no</td>\n",
       "      <td>female</td>\n",
       "      <td>2012</td>\n",
       "      <td>3</td>\n",
       "      <td>no</td>\n",
       "    </tr>\n",
       "    <tr>\n",
       "      <td>149</td>\n",
       "      <td>izzy kane</td>\n",
       "      <td>44</td>\n",
       "      <td>yes</td>\n",
       "      <td>female</td>\n",
       "      <td>2013</td>\n",
       "      <td>2</td>\n",
       "      <td>no</td>\n",
       "    </tr>\n",
       "    <tr>\n",
       "      <td>151</td>\n",
       "      <td>anna marie</td>\n",
       "      <td>877</td>\n",
       "      <td>yes</td>\n",
       "      <td>female</td>\n",
       "      <td>2013</td>\n",
       "      <td>2</td>\n",
       "      <td>no</td>\n",
       "    </tr>\n",
       "    <tr>\n",
       "      <td>154</td>\n",
       "      <td>NaN</td>\n",
       "      <td>25</td>\n",
       "      <td>yes</td>\n",
       "      <td>female</td>\n",
       "      <td>2013</td>\n",
       "      <td>2</td>\n",
       "      <td>yes</td>\n",
       "    </tr>\n",
       "    <tr>\n",
       "      <td>158</td>\n",
       "      <td>america chavez</td>\n",
       "      <td>22</td>\n",
       "      <td>yes</td>\n",
       "      <td>female</td>\n",
       "      <td>2013</td>\n",
       "      <td>2</td>\n",
       "      <td>no</td>\n",
       "    </tr>\n",
       "    <tr>\n",
       "      <td>165</td>\n",
       "      <td>monica chang</td>\n",
       "      <td>12</td>\n",
       "      <td>yes</td>\n",
       "      <td>female</td>\n",
       "      <td>2013</td>\n",
       "      <td>2</td>\n",
       "      <td>no</td>\n",
       "    </tr>\n",
       "    <tr>\n",
       "      <td>167</td>\n",
       "      <td>alexis</td>\n",
       "      <td>13</td>\n",
       "      <td>yes</td>\n",
       "      <td>female</td>\n",
       "      <td>2013</td>\n",
       "      <td>2</td>\n",
       "      <td>no</td>\n",
       "    </tr>\n",
       "    <tr>\n",
       "      <td>171</td>\n",
       "      <td>ava ayala</td>\n",
       "      <td>49</td>\n",
       "      <td>yes</td>\n",
       "      <td>female</td>\n",
       "      <td>2014</td>\n",
       "      <td>1</td>\n",
       "      <td>no</td>\n",
       "    </tr>\n",
       "  </tbody>\n",
       "</table>\n",
       "</div>"
      ],
      "text/plain": [
       "                            name  appearances current?  gender  year  \\\n",
       "1                 janet van dyne         1165      yes  female  1963   \n",
       "9                 wanda maximoff         1214      yes  female  1965   \n",
       "15    natalia alianovna romanova         1112      yes  female  1973   \n",
       "16                        brandt          160       no  female  1973   \n",
       "18               heather douglas          332       no  female  1976   \n",
       "19                  patsy walker          557       no  female  1976   \n",
       "26               nicholette gold          108       no  female  1978   \n",
       "30      carol susan jane danvers          935      yes  female  1979   \n",
       "32                       jocasta          141      yes  female  1988   \n",
       "33            greer grant nelson          355      yes  female  1981   \n",
       "34              jennifer walters          933      yes  female  1982   \n",
       "35                monica rambeau          348      yes  female  1983   \n",
       "38    barbara barton (nee morse)          374       no  female  1984   \n",
       "39                 moira brandon            2       no  female  1993   \n",
       "41                 bonita juarez           83       no  female  1987   \n",
       "46               julia carpenter          218       no  female  1992   \n",
       "52             marrina smallwood           86       no  female  1987   \n",
       "53       ravonna lexus renslayer           41       no  female  1988   \n",
       "54                   rita demara           68       no  female  1988   \n",
       "60               ashley crawford           36      yes  female  1989   \n",
       "61                           NaN           22       no  female  1989   \n",
       "66                 dorreen green           47       no  female  2005   \n",
       "69                           NaN           16       no  female  2005   \n",
       "72                         circe          237       no  female  1990   \n",
       "77    crystal amaquelin maximoff          517       no  female  1992   \n",
       "80                           NaN           28       no  female  1993   \n",
       "81                           NaN           50       no  female  1993   \n",
       "83           \"giulietta nefaria\"           18       no  female  1996   \n",
       "85                angelica jones          330       no  female  1998   \n",
       "87   maria de guadalupe santiago           43       no  female  2000   \n",
       "89            kelsey leigh shorr           24       no  female  2004   \n",
       "91                       veranke          159       no  female  2005   \n",
       "94                    maya lopez           67       no  female  2005   \n",
       "99                   cassie lang          160       no  female  2005   \n",
       "100      katherine \"kate\" bishop          132      yes  female  2005   \n",
       "107          jessica miriam drew          525      yes  female  2008   \n",
       "108                jessica jones          205      yes  female  2010   \n",
       "110                   maria hill          359      yes  female  2010   \n",
       "112                sharon carter          333       no  female  2010   \n",
       "114                   brunnhilde          369       no  female  2010   \n",
       "124              jeanne foucault           63      yes  female  2010   \n",
       "125                        fiona            2      yes  female  1900   \n",
       "126              jennifer takeda           73      yes  female  2010   \n",
       "127                       yvette           22      yes  female  1900   \n",
       "128                  julie power          153      yes  female  1900   \n",
       "129                   alani ryan           73      yes  female  1900   \n",
       "133                         lyra           55      yes  female  1900   \n",
       "134                 anya corazon          108      yes  female  1900   \n",
       "137              michiko musashi           94      yes  female  1900   \n",
       "139                daisy johnson           81       no  female  2012   \n",
       "140                 ororo munroe         1598       no  female  2012   \n",
       "149                    izzy kane           44      yes  female  2013   \n",
       "151                   anna marie          877      yes  female  2013   \n",
       "154                          NaN           25      yes  female  2013   \n",
       "158               america chavez           22      yes  female  2013   \n",
       "165                 monica chang           12      yes  female  2013   \n",
       "167                       alexis           13      yes  female  2013   \n",
       "171                    ava ayala           49      yes  female  2014   \n",
       "\n",
       "     years since joining survived  \n",
       "1                     52      yes  \n",
       "9                     50      yes  \n",
       "15                    42      yes  \n",
       "16                    42      yes  \n",
       "18                    39      yes  \n",
       "19                    39      yes  \n",
       "26                    37       no  \n",
       "30                    36       no  \n",
       "32                    27      yes  \n",
       "33                    34       no  \n",
       "34                    33      yes  \n",
       "35                    32       no  \n",
       "38                    31      yes  \n",
       "39                    22      yes  \n",
       "41                    28       no  \n",
       "46                    23       no  \n",
       "52                    28      yes  \n",
       "53                    27      yes  \n",
       "54                    27      yes  \n",
       "60                    26       no  \n",
       "61                    26      yes  \n",
       "66                    10       no  \n",
       "69                    10       no  \n",
       "72                    25       no  \n",
       "77                    23       no  \n",
       "80                    22       no  \n",
       "81                    22      yes  \n",
       "83                    19      yes  \n",
       "85                    17       no  \n",
       "87                    15       no  \n",
       "89                    11       no  \n",
       "91                    10      yes  \n",
       "94                    10      yes  \n",
       "99                    10      yes  \n",
       "100                   10       no  \n",
       "107                    7       no  \n",
       "108                    5       no  \n",
       "110                    5       no  \n",
       "112                    5      yes  \n",
       "114                    5       no  \n",
       "124                    5       no  \n",
       "125                  115       no  \n",
       "126                    5       no  \n",
       "127                  115       no  \n",
       "128                  115       no  \n",
       "129                  115       no  \n",
       "133                  115       no  \n",
       "134                  115       no  \n",
       "137                  115       no  \n",
       "139                    3       no  \n",
       "140                    3       no  \n",
       "149                    2       no  \n",
       "151                    2       no  \n",
       "154                    2      yes  \n",
       "158                    2       no  \n",
       "165                    2       no  \n",
       "167                    2       no  \n",
       "171                    1       no  "
      ]
     },
     "execution_count": 560,
     "metadata": {},
     "output_type": "execute_result"
    }
   ],
   "source": [
    "females_only= avengers[female_filter]\n",
    "females_only"
   ]
  },
  {
   "cell_type": "code",
   "execution_count": 561,
   "metadata": {},
   "outputs": [
    {
     "data": {
      "text/plain": [
       "<matplotlib.axes._subplots.AxesSubplot at 0x1a280301d0>"
      ]
     },
     "execution_count": 561,
     "metadata": {},
     "output_type": "execute_result"
    },
    {
     "data": {
      "image/png": "[encoded data removed]",
      "text/plain": [
       "<Figure size 432x288 with 1 Axes>"
      ]
     },
     "metadata": {},
     "output_type": "display_data"
    }
   ],
   "source": [
    "females_only[\"years since joining\"].hist(bins = 20, color = \"hotpink\")"
   ]
  },
  {
   "cell_type": "markdown",
   "metadata": {},
   "source": [
    "positvely skewed histogram of female avengers and how many years they have been in the avengers for"
   ]
  },
  {
   "cell_type": "code",
   "execution_count": 562,
   "metadata": {},
   "outputs": [
    {
     "data": {
      "text/plain": [
       "115"
      ]
     },
     "execution_count": 562,
     "metadata": {},
     "output_type": "execute_result"
    }
   ],
   "source": [
    "oldest_female = females_only[\"years since joining\"].max()\n",
    "oldest_female"
   ]
  },
  {
   "cell_type": "code",
   "execution_count": 563,
   "metadata": {},
   "outputs": [
    {
     "data": {
      "text/plain": [
       "<matplotlib.axes._subplots.AxesSubplot at 0x1a27ed3d90>"
      ]
     },
     "execution_count": 563,
     "metadata": {},
     "output_type": "execute_result"
    },
    {
     "data": {
      "image/png": "[encoded data removed]",
      "text/plain": [
       "<Figure size 432x288 with 1 Axes>"
      ]
     },
     "metadata": {},
     "output_type": "display_data"
    }
   ],
   "source": [
    "females_only[\"years since joining\"].plot(kind = \"box\")"
   ]
  },
  {
   "cell_type": "code",
   "execution_count": 564,
   "metadata": {},
   "outputs": [
    {
     "data": {
      "text/plain": [
       "<matplotlib.axes._subplots.AxesSubplot at 0x1a2814bc10>"
      ]
     },
     "execution_count": 564,
     "metadata": {},
     "output_type": "execute_result"
    },
    {
     "data": {
      "image/png": "[encoded data removed]",
      "text/plain": [
       "<Figure size 432x288 with 1 Axes>"
      ]
     },
     "metadata": {},
     "output_type": "display_data"
    }
   ],
   "source": [
    "females_only[\"years since joining\"].plot(kind = \"box\", vert = False)"
   ]
  },
  {
   "cell_type": "code",
   "execution_count": 565,
   "metadata": {},
   "outputs": [
    {
     "data": {
      "text/plain": [
       "0       True\n",
       "1      False\n",
       "2       True\n",
       "3       True\n",
       "4       True\n",
       "       ...  \n",
       "168     True\n",
       "169     True\n",
       "170     True\n",
       "171    False\n",
       "172     True\n",
       "Name: gender, Length: 173, dtype: bool"
      ]
     },
     "execution_count": 565,
     "metadata": {},
     "output_type": "execute_result"
    }
   ],
   "source": [
    "male_filter = avengers[\"gender\"] == \"male\"\n",
    "male_filter"
   ]
  },
  {
   "cell_type": "code",
   "execution_count": 566,
   "metadata": {},
   "outputs": [
    {
     "data": {
      "text/plain": [
       "115"
      ]
     },
     "execution_count": 566,
     "metadata": {},
     "output_type": "execute_result"
    }
   ],
   "source": [
    "male_filter.sum()"
   ]
  },
  {
   "cell_type": "code",
   "execution_count": 567,
   "metadata": {},
   "outputs": [
    {
     "data": {
      "text/html": [
       "<div>\n",
       "<style scoped>\n",
       "    .dataframe tbody tr th:only-of-type {\n",
       "        vertical-align: middle;\n",
       "    }\n",
       "\n",
       "    .dataframe tbody tr th {\n",
       "        vertical-align: top;\n",
       "    }\n",
       "\n",
       "    .dataframe thead th {\n",
       "        text-align: right;\n",
       "    }\n",
       "</style>\n",
       "<table border=\"1\" class=\"dataframe\">\n",
       "  <thead>\n",
       "    <tr style=\"text-align: right;\">\n",
       "      <th></th>\n",
       "      <th>name</th>\n",
       "      <th>appearances</th>\n",
       "      <th>current?</th>\n",
       "      <th>gender</th>\n",
       "      <th>year</th>\n",
       "      <th>years since joining</th>\n",
       "      <th>survived</th>\n",
       "    </tr>\n",
       "  </thead>\n",
       "  <tbody>\n",
       "    <tr>\n",
       "      <td>0</td>\n",
       "      <td>henry jonathan \"hank\" pym</td>\n",
       "      <td>1269</td>\n",
       "      <td>yes</td>\n",
       "      <td>male</td>\n",
       "      <td>1963</td>\n",
       "      <td>52</td>\n",
       "      <td>yes</td>\n",
       "    </tr>\n",
       "    <tr>\n",
       "      <td>2</td>\n",
       "      <td>anthony edward \"tony\" stark</td>\n",
       "      <td>3068</td>\n",
       "      <td>yes</td>\n",
       "      <td>male</td>\n",
       "      <td>1963</td>\n",
       "      <td>52</td>\n",
       "      <td>yes</td>\n",
       "    </tr>\n",
       "    <tr>\n",
       "      <td>3</td>\n",
       "      <td>robert bruce banner</td>\n",
       "      <td>2089</td>\n",
       "      <td>yes</td>\n",
       "      <td>male</td>\n",
       "      <td>1963</td>\n",
       "      <td>52</td>\n",
       "      <td>yes</td>\n",
       "    </tr>\n",
       "    <tr>\n",
       "      <td>4</td>\n",
       "      <td>thor odinson</td>\n",
       "      <td>2402</td>\n",
       "      <td>yes</td>\n",
       "      <td>male</td>\n",
       "      <td>1963</td>\n",
       "      <td>52</td>\n",
       "      <td>yes</td>\n",
       "    </tr>\n",
       "    <tr>\n",
       "      <td>5</td>\n",
       "      <td>richard milhouse jones</td>\n",
       "      <td>612</td>\n",
       "      <td>yes</td>\n",
       "      <td>male</td>\n",
       "      <td>1963</td>\n",
       "      <td>52</td>\n",
       "      <td>no</td>\n",
       "    </tr>\n",
       "    <tr>\n",
       "      <td>...</td>\n",
       "      <td>...</td>\n",
       "      <td>...</td>\n",
       "      <td>...</td>\n",
       "      <td>...</td>\n",
       "      <td>...</td>\n",
       "      <td>...</td>\n",
       "      <td>...</td>\n",
       "    </tr>\n",
       "    <tr>\n",
       "      <td>166</td>\n",
       "      <td>NaN</td>\n",
       "      <td>14</td>\n",
       "      <td>yes</td>\n",
       "      <td>male</td>\n",
       "      <td>2013</td>\n",
       "      <td>2</td>\n",
       "      <td>no</td>\n",
       "    </tr>\n",
       "    <tr>\n",
       "      <td>168</td>\n",
       "      <td>eric brooks</td>\n",
       "      <td>198</td>\n",
       "      <td>yes</td>\n",
       "      <td>male</td>\n",
       "      <td>2013</td>\n",
       "      <td>2</td>\n",
       "      <td>no</td>\n",
       "    </tr>\n",
       "    <tr>\n",
       "      <td>169</td>\n",
       "      <td>adam brashear</td>\n",
       "      <td>29</td>\n",
       "      <td>yes</td>\n",
       "      <td>male</td>\n",
       "      <td>2014</td>\n",
       "      <td>1</td>\n",
       "      <td>no</td>\n",
       "    </tr>\n",
       "    <tr>\n",
       "      <td>170</td>\n",
       "      <td>victor alvarez</td>\n",
       "      <td>45</td>\n",
       "      <td>yes</td>\n",
       "      <td>male</td>\n",
       "      <td>2014</td>\n",
       "      <td>1</td>\n",
       "      <td>no</td>\n",
       "    </tr>\n",
       "    <tr>\n",
       "      <td>172</td>\n",
       "      <td>kaluu</td>\n",
       "      <td>35</td>\n",
       "      <td>yes</td>\n",
       "      <td>male</td>\n",
       "      <td>2015</td>\n",
       "      <td>0</td>\n",
       "      <td>no</td>\n",
       "    </tr>\n",
       "  </tbody>\n",
       "</table>\n",
       "<p>115 rows × 7 columns</p>\n",
       "</div>"
      ],
      "text/plain": [
       "                            name  appearances current? gender  year  \\\n",
       "0      henry jonathan \"hank\" pym         1269      yes   male  1963   \n",
       "2    anthony edward \"tony\" stark         3068      yes   male  1963   \n",
       "3            robert bruce banner         2089      yes   male  1963   \n",
       "4                   thor odinson         2402      yes   male  1963   \n",
       "5         richard milhouse jones          612      yes   male  1963   \n",
       "..                           ...          ...      ...    ...   ...   \n",
       "166                          NaN           14      yes   male  2013   \n",
       "168                  eric brooks          198      yes   male  2013   \n",
       "169                adam brashear           29      yes   male  2014   \n",
       "170               victor alvarez           45      yes   male  2014   \n",
       "172                        kaluu           35      yes   male  2015   \n",
       "\n",
       "     years since joining survived  \n",
       "0                     52      yes  \n",
       "2                     52      yes  \n",
       "3                     52      yes  \n",
       "4                     52      yes  \n",
       "5                     52       no  \n",
       "..                   ...      ...  \n",
       "166                    2       no  \n",
       "168                    2       no  \n",
       "169                    1       no  \n",
       "170                    1       no  \n",
       "172                    0       no  \n",
       "\n",
       "[115 rows x 7 columns]"
      ]
     },
     "execution_count": 567,
     "metadata": {},
     "output_type": "execute_result"
    }
   ],
   "source": [
    "males_only= avengers[male_filter]\n",
    "males_only"
   ]
  },
  {
   "cell_type": "code",
   "execution_count": 568,
   "metadata": {},
   "outputs": [
    {
     "data": {
      "text/plain": [
       "<matplotlib.axes._subplots.AxesSubplot at 0x1a28252e10>"
      ]
     },
     "execution_count": 568,
     "metadata": {},
     "output_type": "execute_result"
    },
    {
     "data": {
      "image/png": "[encoded data removed]",
      "text/plain": [
       "<Figure size 432x288 with 1 Axes>"
      ]
     },
     "metadata": {},
     "output_type": "display_data"
    }
   ],
   "source": [
    "males_only[\"years since joining\"].hist(bins = 20, color = \"blue\")"
   ]
  },
  {
   "cell_type": "code",
   "execution_count": 569,
   "metadata": {},
   "outputs": [
    {
     "data": {
      "text/plain": [
       "115"
      ]
     },
     "execution_count": 569,
     "metadata": {},
     "output_type": "execute_result"
    }
   ],
   "source": [
    "oldest_male = males_only[\"years since joining\"].max()\n",
    "oldest_male"
   ]
  },
  {
   "cell_type": "code",
   "execution_count": 570,
   "metadata": {},
   "outputs": [
    {
     "data": {
      "text/plain": [
       "<matplotlib.axes._subplots.AxesSubplot at 0x1a2849eb90>"
      ]
     },
     "execution_count": 570,
     "metadata": {},
     "output_type": "execute_result"
    },
    {
     "data": {
      "image/png": "[encoded data removed]",
      "text/plain": [
       "<Figure size 432x288 with 1 Axes>"
      ]
     },
     "metadata": {},
     "output_type": "display_data"
    }
   ],
   "source": [
    "males_only[\"years since joining\"].plot(kind = \"box\")"
   ]
  },
  {
   "cell_type": "code",
   "execution_count": 571,
   "metadata": {},
   "outputs": [
    {
     "data": {
      "text/plain": [
       "<matplotlib.axes._subplots.AxesSubplot at 0x1a284d3590>"
      ]
     },
     "execution_count": 571,
     "metadata": {},
     "output_type": "execute_result"
    },
    {
     "data": {
      "image/png": "[encoded data removed]",
      "text/plain": [
       "<Figure size 432x288 with 1 Axes>"
      ]
     },
     "metadata": {},
     "output_type": "display_data"
    }
   ],
   "source": [
    "males_only[\"years since joining\"].plot(kind = \"box\", vert = False)"
   ]
  },
  {
   "cell_type": "code",
   "execution_count": 624,
   "metadata": {},
   "outputs": [
    {
     "data": {
      "text/plain": [
       "Text(0.5, 1.0, 'Length of Membership Distribution of Male and Female Avengers')"
      ]
     },
     "execution_count": 624,
     "metadata": {},
     "output_type": "execute_result"
    },
    {
     "data": {
      "image/png": "[encoded data removed]",
      "text/plain": [
       "<Figure size 432x288 with 1 Axes>"
      ]
     },
     "metadata": {},
     "output_type": "display_data"
    }
   ],
   "source": [
    "males['years since joining'].hist(color = \"blue\", alpha =.5)\n",
    "females['years since joining'].hist(color = \"hotpink\", alpha = .5)\n",
    "plt.xlabel(\"years since joining\")\n",
    "plt.ylabel(\"frequency\")\n",
    "plt.title(\"Length of Membership Distribution of Male and Female Avengers\")"
   ]
  },
  {
   "cell_type": "markdown",
   "metadata": {},
   "source": [
    "male and female plotted together, shows that avengers is and has always been mostly male"
   ]
  },
  {
   "cell_type": "code",
   "execution_count": 572,
   "metadata": {},
   "outputs": [
    {
     "data": {
      "text/plain": [
       "no     104\n",
       "yes     69\n",
       "Name: survived, dtype: int64"
      ]
     },
     "execution_count": 572,
     "metadata": {},
     "output_type": "execute_result"
    }
   ],
   "source": [
    "avengers['survived'].value_counts()"
   ]
  },
  {
   "cell_type": "code",
   "execution_count": 537,
   "metadata": {},
   "outputs": [
    {
     "data": {
      "text/plain": [
       "0       True\n",
       "1       True\n",
       "2       True\n",
       "3       True\n",
       "4       True\n",
       "       ...  \n",
       "168    False\n",
       "169    False\n",
       "170    False\n",
       "171    False\n",
       "172    False\n",
       "Name: survived, Length: 173, dtype: bool"
      ]
     },
     "execution_count": 537,
     "metadata": {},
     "output_type": "execute_result"
    }
   ],
   "source": [
    "female_survivors = avengers[\"survived\"] == \"yes\"\n",
    "female_survivors"
   ]
  },
  {
   "cell_type": "code",
   "execution_count": 542,
   "metadata": {},
   "outputs": [],
   "source": [
    "males = avengers[male_filter]\n",
    "females = avengers[female_filter]"
   ]
  },
  {
   "cell_type": "code",
   "execution_count": 543,
   "metadata": {},
   "outputs": [
    {
     "data": {
      "text/plain": [
       "<matplotlib.axes._subplots.AxesSubplot at 0x1a27441350>"
      ]
     },
     "execution_count": 543,
     "metadata": {},
     "output_type": "execute_result"
    },
    {
     "data": {
      "image/png": "[encoded data removed]",
      "text/plain": [
       "<Figure size 432x288 with 1 Axes>"
      ]
     },
     "metadata": {},
     "output_type": "display_data"
    }
   ],
   "source": [
    "females['survived'].hist()"
   ]
  },
  {
   "cell_type": "code",
   "execution_count": 544,
   "metadata": {},
   "outputs": [
    {
     "data": {
      "text/plain": [
       "<matplotlib.axes._subplots.AxesSubplot at 0x1a276ec910>"
      ]
     },
     "execution_count": 544,
     "metadata": {},
     "output_type": "execute_result"
    },
    {
     "data": {
      "image/png": "[encoded data removed]",
      "text/plain": [
       "<Figure size 432x288 with 1 Axes>"
      ]
     },
     "metadata": {},
     "output_type": "display_data"
    }
   ],
   "source": [
    "males['survived'].hist()"
   ]
  },
  {
   "cell_type": "code",
   "execution_count": 556,
   "metadata": {},
   "outputs": [
    {
     "data": {
      "text/plain": [
       "survived  gender\n",
       "no        female    37\n",
       "          male      67\n",
       "yes       female    21\n",
       "          male      48\n",
       "Name: survived, dtype: int64"
      ]
     },
     "execution_count": 556,
     "metadata": {},
     "output_type": "execute_result"
    }
   ],
   "source": [
    "survived = avengers.groupby(['survived', 'gender'])['survived'].count()\n",
    "survived"
   ]
  },
  {
   "cell_type": "code",
   "execution_count": 546,
   "metadata": {},
   "outputs": [
    {
     "data": {
      "text/plain": [
       "male      115\n",
       "female     58\n",
       "Name: gender, dtype: int64"
      ]
     },
     "execution_count": 546,
     "metadata": {},
     "output_type": "execute_result"
    }
   ],
   "source": [
    "avengers['gender'].value_counts()"
   ]
  },
  {
   "cell_type": "code",
   "execution_count": 548,
   "metadata": {},
   "outputs": [
    {
     "data": {
      "text/plain": [
       "(array([0, 1]), <a list of 2 Text xticklabel objects>)"
      ]
     },
     "execution_count": 548,
     "metadata": {},
     "output_type": "execute_result"
    },
    {
     "data": {
      "image/png": "[encoded data removed]",
      "text/plain": [
       "<Figure size 432x288 with 1 Axes>"
      ]
     },
     "metadata": {},
     "output_type": "display_data"
    }
   ],
   "source": [
    "avengers['gender'].value_counts().plot(kind = \"bar\")\n",
    "plt.title(\"Gender Breakdown in the Avengers\")\n",
    "plt.xlabel(\"Gender\")\n",
    "plt.ylabel(\"Count\")\n",
    "plt.xticks(rotation = 0, horizontalalignment = \"right\")"
   ]
  },
  {
   "cell_type": "code",
   "execution_count": 551,
   "metadata": {},
   "outputs": [],
   "source": [
    "avengers['name'] = avengers['name'].astype('category')\n",
    "\n",
    "avengers['current?'] = avengers['current?'].astype('category')\n",
    "\n",
    "avengers['gender'] = avengers['gender'].astype('category')\n",
    "\n",
    "avengers['survived'] = avengers['survived'].astype('category')\n",
    "\n"
   ]
  },
  {
   "cell_type": "code",
   "execution_count": 552,
   "metadata": {},
   "outputs": [
    {
     "data": {
      "text/plain": [
       "name                   category\n",
       "appearances               int64\n",
       "current?               category\n",
       "gender                 category\n",
       "year                      int64\n",
       "years since joining       int64\n",
       "survived               category\n",
       "dtype: object"
      ]
     },
     "execution_count": 552,
     "metadata": {},
     "output_type": "execute_result"
    }
   ],
   "source": [
    "avengers.dtypes"
   ]
  },
  {
   "cell_type": "code",
   "execution_count": 574,
   "metadata": {},
   "outputs": [
    {
     "data": {
      "text/plain": [
       "Text(0, 0.5, 'Survived?')"
      ]
     },
     "execution_count": 574,
     "metadata": {},
     "output_type": "execute_result"
    },
    {
     "data": {
      "image/png": "[encoded data removed]",
      "text/plain": [
       "<Figure size 432x288 with 1 Axes>"
      ]
     },
     "metadata": {},
     "output_type": "display_data"
    }
   ],
   "source": [
    "avengers['survived'].value_counts().plot(kind = \"barh\")\n",
    "plt.title(\"Survival Breakdown in the Avengers\")\n",
    "plt.xlabel(\"Count\")\n",
    "plt.ylabel(\"Survived?\")"
   ]
  },
  {
   "cell_type": "code",
   "execution_count": 579,
   "metadata": {},
   "outputs": [],
   "source": [
    "survived = avengers.groupby(['survived', 'gender'])['survived'].count()"
   ]
  },
  {
   "cell_type": "code",
   "execution_count": 580,
   "metadata": {},
   "outputs": [
    {
     "data": {
      "text/plain": [
       "<matplotlib.axes._subplots.AxesSubplot at 0x1a28809b90>"
      ]
     },
     "execution_count": 580,
     "metadata": {},
     "output_type": "execute_result"
    },
    {
     "data": {
      "image/png": "[encoded data removed]",
      "text/plain": [
       "<Figure size 432x288 with 1 Axes>"
      ]
     },
     "metadata": {},
     "output_type": "display_data"
    }
   ],
   "source": [
    "survived.plot(kind = \"bar\", stacked = True)"
   ]
  },
  {
   "cell_type": "code",
   "execution_count": 581,
   "metadata": {},
   "outputs": [
    {
     "data": {
      "text/plain": [
       "<matplotlib.axes._subplots.AxesSubplot at 0x1a28a4de50>"
      ]
     },
     "execution_count": 581,
     "metadata": {},
     "output_type": "execute_result"
    },
    {
     "data": {
      "image/png": "[encoded data removed]",
      "text/plain": [
       "<Figure size 432x288 with 1 Axes>"
      ]
     },
     "metadata": {},
     "output_type": "display_data"
    }
   ],
   "source": [
    "survived.unstack(). plot(kind = \"bar\", stacked = True)"
   ]
  },
  {
   "cell_type": "code",
   "execution_count": 582,
   "metadata": {},
   "outputs": [
    {
     "data": {
      "text/plain": [
       "<matplotlib.axes._subplots.AxesSubplot at 0x1a28b80850>"
      ]
     },
     "execution_count": 582,
     "metadata": {},
     "output_type": "execute_result"
    },
    {
     "data": {
      "image/png": "[encoded data removed]",
      "text/plain": [
       "<Figure size 432x288 with 1 Axes>"
      ]
     },
     "metadata": {},
     "output_type": "display_data"
    }
   ],
   "source": [
    "survived.unstack(). plot(kind = \"bar\")"
   ]
  },
  {
   "cell_type": "code",
   "execution_count": 585,
   "metadata": {},
   "outputs": [
    {
     "data": {
      "text/html": [
       "<div>\n",
       "<style scoped>\n",
       "    .dataframe tbody tr th:only-of-type {\n",
       "        vertical-align: middle;\n",
       "    }\n",
       "\n",
       "    .dataframe tbody tr th {\n",
       "        vertical-align: top;\n",
       "    }\n",
       "\n",
       "    .dataframe thead tr th {\n",
       "        text-align: left;\n",
       "    }\n",
       "</style>\n",
       "<table border=\"1\" class=\"dataframe\">\n",
       "  <thead>\n",
       "    <tr>\n",
       "      <th>survived</th>\n",
       "      <th colspan=\"2\" halign=\"left\">no</th>\n",
       "      <th colspan=\"2\" halign=\"left\">yes</th>\n",
       "    </tr>\n",
       "    <tr>\n",
       "      <th>gender</th>\n",
       "      <th>female</th>\n",
       "      <th>male</th>\n",
       "      <th>female</th>\n",
       "      <th>male</th>\n",
       "    </tr>\n",
       "  </thead>\n",
       "  <tbody>\n",
       "    <tr>\n",
       "      <td>survived</td>\n",
       "      <td>37</td>\n",
       "      <td>67</td>\n",
       "      <td>21</td>\n",
       "      <td>48</td>\n",
       "    </tr>\n",
       "  </tbody>\n",
       "</table>\n",
       "</div>"
      ],
      "text/plain": [
       "survived     no         yes     \n",
       "gender   female male female male\n",
       "survived     37   67     21   48"
      ]
     },
     "execution_count": 585,
     "metadata": {},
     "output_type": "execute_result"
    }
   ],
   "source": [
    "survived_df = pd.DataFrame([survived])\n",
    "survived_df.index = ['survived']\n",
    "survived_df.head()"
   ]
  },
  {
   "cell_type": "code",
   "execution_count": 591,
   "metadata": {},
   "outputs": [
    {
     "data": {
      "text/plain": [
       "<matplotlib.axes._subplots.AxesSubplot at 0x1a29034a90>"
      ]
     },
     "execution_count": 591,
     "metadata": {},
     "output_type": "execute_result"
    },
    {
     "data": {
      "image/png": "[encoded data removed]",
      "text/plain": [
       "<Figure size 432x288 with 1 Axes>"
      ]
     },
     "metadata": {},
     "output_type": "display_data"
    }
   ],
   "source": [
    "survived_df.plot(kind = \"bar\", stacked = True, color = ['black', 'white', 'pink', 'blue'])"
   ]
  },
  {
   "cell_type": "code",
   "execution_count": 609,
   "metadata": {},
   "outputs": [
    {
     "data": {
      "text/plain": [
       "Text(0.5, 1.0, 'Survival by year')"
      ]
     },
     "execution_count": 609,
     "metadata": {},
     "output_type": "execute_result"
    },
    {
     "data": {
      "image/png": "[encoded data removed]",
      "text/plain": [
       "<Figure size 720x360 with 1 Axes>"
      ]
     },
     "metadata": {},
     "output_type": "display_data"
    }
   ],
   "source": [
    "figure = plt.figure(figsize=(10,5))\n",
    "plt.hist([avengers[avengers['survived']==\"yes\"]['year'],avengers[avengers['survived']==\"no\"]['year']], \n",
    "         stacked=True, color = ['r','b'], alpha = .5, \n",
    "         bins = 30, label = ['survived','dead'])\n",
    "plt.xlabel('year')\n",
    "plt.ylabel('avengers')\n",
    "plt.legend()\n",
    "plt.title('Survival by year')\n",
    "\n"
   ]
  },
  {
   "cell_type": "code",
   "execution_count": 621,
   "metadata": {},
   "outputs": [
    {
     "name": "stderr",
     "output_type": "stream",
     "text": [
      "/Users/carlyfeldstein/opt/anaconda3/lib/python3.7/site-packages/ipykernel_launcher.py:3: MatplotlibDeprecationWarning: Adding an axes using the same arguments as a previous axes currently reuses the earlier instance.  In a future version, a new instance will always be created and returned.  Meanwhile, this warning can be suppressed, and the future behavior ensured, by passing a unique label to each axes instance.\n",
      "  This is separate from the ipykernel package so we can avoid doing imports until\n"
     ]
    },
    {
     "data": {
      "text/plain": [
       "<matplotlib.legend.Legend at 0x1a2b325ed0>"
      ]
     },
     "execution_count": 621,
     "metadata": {},
     "output_type": "execute_result"
    },
    {
     "data": {
      "image/png": "[encoded data removed]",
      "text/plain": [
       "<Figure size 720x360 with 1 Axes>"
      ]
     },
     "metadata": {},
     "output_type": "display_data"
    }
   ],
   "source": [
    "plt.figure(figsize=(10,5))\n",
    "plt.title('Scatter Diagram of Survival By Year & Years Since Joining')\n",
    "ax = plt.subplot()\n",
    "ax.scatter(avengers[avengers['survived']==\"yes\"]['year'],avengers[avengers['survived']==\"yes\"]['years since joining'],c='yellow',alpha = .7, s=40)\n",
    "ax.scatter(avengers[avengers['survived']==\"no\"]['year'],avengers[avengers['survived']==\"no\"]['years since joining'],c='gray', alpha = .7,s=40)\n",
    "ax.set_xlabel('Year')\n",
    "ax.set_ylabel('Years Since Joining')\n",
    "ax.legend(('Survived','Dead'),scatterpoints=1,loc='upper right',fontsize=15,)"
   ]
  },
  {
   "cell_type": "code",
   "execution_count": 622,
   "metadata": {},
   "outputs": [
    {
     "data": {
      "text/plain": [
       "<matplotlib.axes._subplots.AxesSubplot at 0x1a2b31add0>"
      ]
     },
     "execution_count": 622,
     "metadata": {},
     "output_type": "execute_result"
    },
    {
     "data": {
      "image/png": "[encoded data removed]",
      "text/plain": [
       "<Figure size 720x360 with 1 Axes>"
      ]
     },
     "metadata": {},
     "output_type": "display_data"
    }
   ],
   "source": [
    "ax = plt.subplot()\n",
    "ax.set_ylabel('Average year since joining')\n",
    "avengers.groupby('year').mean()['years since joining'].plot(\n",
    "                                           title = 'Average year since joining by year',\n",
    "                                           kind='bar',\n",
    "                                           figsize=(10,5), \n",
    "                                           ax = ax,\n",
    "                                           x = 'year',\n",
    "                                           color=['green', 'yellow', 'blue'], alpha = .5\n",
    "                                           )"
   ]
  },
  {
   "cell_type": "code",
   "execution_count": 625,
   "metadata": {},
   "outputs": [
    {
     "name": "stdout",
     "output_type": "stream",
     "text": [
      "name                   10\n",
      "appearances             0\n",
      "current?                0\n",
      "gender                  0\n",
      "year                    0\n",
      "years since joining     0\n",
      "survived                0\n",
      "dtype: int64\n"
     ]
    }
   ],
   "source": [
    "print(avengers.isnull().sum())"
   ]
  },
  {
   "cell_type": "code",
   "execution_count": null,
   "metadata": {},
   "outputs": [],
   "source": []
  }
 ],
 "metadata": {
  "kernelspec": {
   "display_name": "Python 3",
   "language": "python",
   "name": "python3"
  },
  "language_info": {
   "codemirror_mode": {
    "name": "ipython",
    "version": 3
   },
   "file_extension": ".py",
   "mimetype": "text/x-python",
   "name": "python",
   "nbconvert_exporter": "python",
   "pygments_lexer": "ipython3",
   "version": "3.7.4"
  }
 },
 "nbformat": 4,
 "nbformat_minor": 2
}
